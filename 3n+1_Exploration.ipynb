{
  "nbformat": 4,
  "nbformat_minor": 0,
  "metadata": {
    "colab": {
      "name": "3n+1_Exploration.ipynb",
      "provenance": [],
      "collapsed_sections": [],
      "include_colab_link": true
    },
    "kernelspec": {
      "name": "python3",
      "display_name": "Python 3"
    }
  },
  "cells": [
    {
      "cell_type": "markdown",
      "metadata": {
        "id": "view-in-github",
        "colab_type": "text"
      },
      "source": [
        "<a href=\"https://colab.research.google.com/github/BurleighCharlton/Python-Mathematics/blob/main/3n%2B1_Exploration.ipynb\" target=\"_parent\"><img src=\"https://colab.research.google.com/assets/colab-badge.svg\" alt=\"Open In Colab\"/></a>"
      ]
    },
    {
      "cell_type": "markdown",
      "metadata": {
        "id": "ILoBTuF2Nfu_"
      },
      "source": [
        "#The Exploration: The 3n + 1 conjecture"
      ]
    },
    {
      "cell_type": "markdown",
      "metadata": {
        "id": "ehJ2-mKgN9Vo"
      },
      "source": [
        "###By Burleigh Charlton, Ian Wallace,  Perry Winsor, Louis Wolleiver, and Chun Zhou"
      ]
    },
    {
      "cell_type": "markdown",
      "metadata": {
        "id": "KuzjaAAwLLHx"
      },
      "source": [
        "# Introduction"
      ]
    },
    {
      "cell_type": "code",
      "metadata": {
        "id": "bENqRzlVOD3a"
      },
      "source": [
        "# Required part Check the conjecture for all positive integers up to a big number.\r\n",
        "\r\n",
        "def conj(n):\r\n",
        "  '''\r\n",
        "  Run the 3n+1 conjecture with input n. It prints out every steps until\r\n",
        "  the n become 1, which will loop after.\r\n",
        "  '''\r\n",
        "  if type(n) != int: #check if the input is integer\r\n",
        "    raise TypeError('Only integers can be even or odd.')\r\n",
        "  if n<0: #check if the input is positive\r\n",
        "    raise ValueError('Cannot be negative numbers.')\r\n",
        "  \r\n",
        "  while (n != 1): # check if the number is at 1, it will loop from there\r\n",
        "    if n%2 == 0: # when n is even, divide by 2\r\n",
        "      n = n/2\r\n",
        "    else: # when n is odd, n = 3n+1\r\n",
        "      n = 3*n+1\r\n",
        "    print('n is: ',n)  #print out every step\r\n",
        "  return n"
      ],
      "execution_count": null,
      "outputs": []
    },
    {
      "cell_type": "code",
      "metadata": {
        "id": "YTtx8bJ2Qemc"
      },
      "source": [
        "conj(5) # test for the code with the examples provide at the instruction page."
      ],
      "execution_count": null,
      "outputs": []
    },
    {
      "cell_type": "code",
      "metadata": {
        "id": "isRwtf4pSYnP"
      },
      "source": [
        "# Check for negative numbers\r\n",
        "def conj_neg(n):\r\n",
        "  '''\r\n",
        "  Run the 3n+1 conjecture with input n. It prints out every steps until\r\n",
        "  the n become 1, which will loop after.\r\n",
        "  '''\r\n",
        "  if type(n) != int: #check if the input is integer\r\n",
        "    raise TypeError('Only integers can be even or odd.')\r\n",
        "  \r\n",
        "  while (n != -20): # check if the number is at 1, it will loop from there\r\n",
        "    if n%2 == 0: # when n is even, divide by 2\r\n",
        "      n = n/2\r\n",
        "    else: # when n is odd, n = 3n+1\r\n",
        "      n = 3*n+1\r\n",
        "    print('n is: ',n)  #print out every step\r\n",
        "  return n"
      ],
      "execution_count": null,
      "outputs": []
    },
    {
      "cell_type": "code",
      "metadata": {
        "id": "R6aqJMPRT6jn"
      },
      "source": [
        "conj_neg(-5) # check for negative numbers."
      ],
      "execution_count": null,
      "outputs": []
    },
    {
      "cell_type": "code",
      "metadata": {
        "colab": {
          "base_uri": "https://localhost:8080/"
        },
        "id": "BoyJ1qIGSj9-",
        "outputId": "37fa4e38-4c1c-4f19-b11c-27f227737486"
      },
      "source": [
        "def collatz_sequence(initial_value, iterations):\r\n",
        "  '''\r\n",
        "  takes a number of iterations 'iterations'\r\n",
        "  and an intial value to start at 'initial_value'\r\n",
        "\r\n",
        "  computes a the collats sequence via the formula\r\n",
        "  3(initial_value)+1\r\n",
        "  collatz_sequence: num, num -> list\r\n",
        "  '''\r\n",
        "  current_value = int(initial_value)\r\n",
        "  sequence_list = [initial_value]\r\n",
        "  for i in range(iterations):\r\n",
        "    if current_value & 1 == 0: #fast way to check if even\r\n",
        "      current_value = int(current_value/2)#divide by 2\r\n",
        "      sequence_list.append(current_value)\r\n",
        "    else:\r\n",
        "      current_value = int((3 * current_value) + 1) #3n+1\r\n",
        "      sequence_list.append(current_value)\r\n",
        "  return sequence_list\r\n",
        "\r\n",
        "\r\n",
        "print(*collatz_sequence(5, 10))\r\n",
        "\r\n",
        "\r\n",
        "\r\n",
        "    "
      ],
      "execution_count": null,
      "outputs": [
        {
          "output_type": "stream",
          "text": [
            "5 16 49 148 445 1336 4009 12028 36085 108256 324769\n"
          ],
          "name": "stdout"
        }
      ]
    },
    {
      "cell_type": "code",
      "metadata": {
        "id": "P0SBN3IWSkup"
      },
      "source": [
        "def collatz(n):\r\n",
        "    step_counter = 0\r\n",
        "    step = n\r\n",
        "    if (n <= 1) or (type(n) != int):\r\n",
        "        raise ValueError('The Collatz conjecture applies only to integers greater than 1.')\r\n",
        "    while step != 1:\r\n",
        "        if step%2==0:\r\n",
        "            step = step//2\r\n",
        "        else:\r\n",
        "            step = 3*step + 1\r\n",
        "        step_counter += 1\r\n",
        "        print('Step {} is {}'.format(step_counter,step))\r\n",
        "    return None"
      ],
      "execution_count": 33,
      "outputs": []
    },
    {
      "cell_type": "code",
      "metadata": {
        "id": "VIbeJnsjVOSW"
      },
      "source": [
        ""
      ],
      "execution_count": null,
      "outputs": []
    }
  ]
}