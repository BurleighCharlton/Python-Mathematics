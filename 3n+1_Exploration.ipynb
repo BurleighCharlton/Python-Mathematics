{
  "nbformat": 4,
  "nbformat_minor": 0,
  "metadata": {
    "colab": {
      "name": "3n+1_Exploration.ipynb",
      "provenance": [],
      "collapsed_sections": [],
      "toc_visible": true,
      "include_colab_link": true
    },
    "kernelspec": {
      "name": "python3",
      "display_name": "Python 3"
    }
  },
  "cells": [
    {
      "cell_type": "markdown",
      "metadata": {
        "id": "view-in-github",
        "colab_type": "text"
      },
      "source": [
        "<a href=\"https://colab.research.google.com/github/BurleighCharlton/Python-Mathematics/blob/main/3n%2B1_Exploration.ipynb\" target=\"_parent\"><img src=\"https://colab.research.google.com/assets/colab-badge.svg\" alt=\"Open In Colab\"/></a>"
      ]
    },
    {
      "cell_type": "markdown",
      "metadata": {
        "id": "ILoBTuF2Nfu_"
      },
      "source": [
        "#The Exploration: The 3n + 1 conjecture"
      ]
    },
    {
      "cell_type": "markdown",
      "metadata": {
        "id": "ehJ2-mKgN9Vo"
      },
      "source": [
        "###By Burleigh Charlton, Ian Wallace,  Perry Winsor, Louis Wolleiver, and Chun Zhou"
      ]
    },
    {
      "cell_type": "markdown",
      "metadata": {
        "id": "KuzjaAAwLLHx"
      },
      "source": [
        "# Introduction"
      ]
    },
    {
      "cell_type": "code",
      "metadata": {
        "id": "bENqRzlVOD3a"
      },
      "source": [
        "# Required part Check the conjecture for all positive integers up to a big number.\r\n",
        "\r\n",
        "def conj(n):\r\n",
        "  '''\r\n",
        "  Run the 3n+1 conjecture with input n. It prints out every steps until\r\n",
        "  the n become 1, which will loop after.\r\n",
        "  '''\r\n",
        "  if type(n) != int: #check if the input is integer\r\n",
        "    raise TypeError('Only integers can be even or odd.')\r\n",
        "  if n<0: #check if the input is positive\r\n",
        "    raise ValueError('Cannot be negative numbers.')\r\n",
        "  \r\n",
        "  while (n != 1): # check if the number is at 1, it will loop from there\r\n",
        "    if n%2 == 0: # when n is even, divide by 2\r\n",
        "      n = n/2\r\n",
        "    else: # when n is odd, n = 3n+1\r\n",
        "      n = 3*n+1\r\n",
        "    print('n is: ',n)  #print out every step\r\n",
        "  return n"
      ],
      "execution_count": null,
      "outputs": []
    },
    {
      "cell_type": "code",
      "metadata": {
        "id": "YTtx8bJ2Qemc"
      },
      "source": [
        "conj(5) # test for the code with the examples provide at the instruction page."
      ],
      "execution_count": null,
      "outputs": []
    },
    {
      "cell_type": "code",
      "metadata": {
        "id": "isRwtf4pSYnP"
      },
      "source": [
        "# Check for negative numbers\r\n",
        "def conj_neg(n):\r\n",
        "  '''\r\n",
        "  Run the 3n+1 conjecture with input n. It prints out every steps until\r\n",
        "  the n become 1, which will loop after.\r\n",
        "  '''\r\n",
        "  if type(n) != int: #check if the input is integer\r\n",
        "    raise TypeError('Only integers can be even or odd.')\r\n",
        "  \r\n",
        "  while (n != -20): # check if the number is at 1, it will loop from there\r\n",
        "    if n%2 == 0: # when n is even, divide by 2\r\n",
        "      n = n/2\r\n",
        "    else: # when n is odd, n = 3n+1\r\n",
        "      n = 3*n+1\r\n",
        "    print('n is: ',n)  #print out every step\r\n",
        "  return n"
      ],
      "execution_count": null,
      "outputs": []
    },
    {
      "cell_type": "code",
      "metadata": {
        "id": "R6aqJMPRT6jn"
      },
      "source": [
        "conj_neg(-5) # check for negative numbers."
      ],
      "execution_count": null,
      "outputs": []
    },
    {
      "cell_type": "code",
      "metadata": {
        "colab": {
          "base_uri": "https://localhost:8080/"
        },
        "id": "BoyJ1qIGSj9-",
        "outputId": "37fa4e38-4c1c-4f19-b11c-27f227737486"
      },
      "source": [
        "def collatz_sequence(initial_value, iterations):\r\n",
        "  '''\r\n",
        "  takes a number of iterations 'iterations'\r\n",
        "  and an intial value to start at 'initial_value'\r\n",
        "\r\n",
        "  computes a the collats sequence via the formula\r\n",
        "  3(initial_value)+1\r\n",
        "  collatz_sequence: num, num -> list\r\n",
        "  '''\r\n",
        "  current_value = int(initial_value)\r\n",
        "  sequence_list = [initial_value]\r\n",
        "  for i in range(iterations):\r\n",
        "    if current_value & 1 == 0: #fast way to check if even\r\n",
        "      current_value = int(current_value/2)#divide by 2\r\n",
        "      sequence_list.append(current_value)\r\n",
        "    else:\r\n",
        "      current_value = int((3 * current_value) + 1) #3n+1\r\n",
        "      sequence_list.append(current_value)\r\n",
        "  return sequence_list\r\n",
        "\r\n",
        "\r\n",
        "print(*collatz_sequence(5, 10))\r\n",
        "\r\n",
        "\r\n",
        "\r\n",
        "    "
      ],
      "execution_count": null,
      "outputs": [
        {
          "output_type": "stream",
          "text": [
            "5 16 49 148 445 1336 4009 12028 36085 108256 324769\n"
          ],
          "name": "stdout"
        }
      ]
    },
    {
      "cell_type": "code",
      "metadata": {
        "id": "P0SBN3IWSkup"
      },
      "source": [
        "def collatz(n):\r\n",
        "    step_counter = 0\r\n",
        "    step = n\r\n",
        "    if (n <= 1) or (type(n) != int):\r\n",
        "        raise ValueError('The Collatz conjecture applies only to integers greater than 1.')\r\n",
        "    while step != 1:\r\n",
        "        if step%2==0:\r\n",
        "            step = step//2\r\n",
        "        else:\r\n",
        "            step = 3*step + 1\r\n",
        "        step_counter += 1\r\n",
        "        print('Step {} is {}'.format(step_counter,step))\r\n",
        "    return None"
      ],
      "execution_count": null,
      "outputs": []
    },
    {
      "cell_type": "code",
      "metadata": {
        "id": "VIbeJnsjVOSW"
      },
      "source": [
        ""
      ],
      "execution_count": null,
      "outputs": []
    },
    {
      "cell_type": "code",
      "metadata": {
        "id": "mwYhrWIgV6Pw"
      },
      "source": [
        "def seq(n):\r\n",
        "  '''\r\n",
        "  Creates a values list for all values of n while running the sequence.\r\n",
        "  '''\r\n",
        "  initial_value = n # store inital value\r\n",
        "  values = [] # create list for storing squence values\r\n",
        "  m = 'dummy' # creating a holder variable m\r\n",
        "  while m not in values:\r\n",
        "    values.append(n)\r\n",
        "    if n % 2 == 0: # run conjecture\r\n",
        "      n = int(n/2)\r\n",
        "    else:\r\n",
        "      n = 3*n+1\r\n",
        "    m = n # set m to n for later purpose\r\n",
        "  values.remove(initial_value)\r\n",
        "  return((initial_value,values))\r\n"
      ],
      "execution_count": null,
      "outputs": []
    },
    {
      "cell_type": "code",
      "metadata": {
        "colab": {
          "base_uri": "https://localhost:8080/"
        },
        "id": "amAxadnHYRJs",
        "outputId": "7f38e788-aa92-4856-a1cb-6b4d934e9039"
      },
      "source": [
        "def collatz(n):\r\n",
        "  '''\r\n",
        "  The 3n+1 conjecture, when given a positive integer n, will return the\r\n",
        "  Collatz sequence for the starting value terminating once the sequence hits 1\r\n",
        "  '''\r\n",
        "  sequence = [] #empty list for storing values\r\n",
        "  while (n != 1): #checks that n is not already at 1\r\n",
        "      sequence.append(n)\r\n",
        "      if (n%2 == 0):\r\n",
        "          n = int(n/2)\r\n",
        "      else:\r\n",
        "          n = int(3*n+1)\r\n",
        "  return(sequence)\r\n",
        "print(collatz(174280))\r\n"
      ],
      "execution_count": null,
      "outputs": [
        {
          "output_type": "stream",
          "text": [
            "[174280, 87140, 43570, 21785, 65356, 32678, 16339, 49018, 24509, 73528, 36764, 18382, 9191, 27574, 13787, 41362, 20681, 62044, 31022, 15511, 46534, 23267, 69802, 34901, 104704, 52352, 26176, 13088, 6544, 3272, 1636, 818, 409, 1228, 614, 307, 922, 461, 1384, 692, 346, 173, 520, 260, 130, 65, 196, 98, 49, 148, 74, 37, 112, 56, 28, 14, 7, 22, 11, 34, 17, 52, 26, 13, 40, 20, 10, 5, 16, 8, 4, 2]\n"
          ],
          "name": "stdout"
        }
      ]
    },
    {
      "cell_type": "code",
      "metadata": {
        "id": "KjR-a6whZ88e",
        "colab": {
          "base_uri": "https://localhost:8080/"
        },
        "outputId": "effd9a97-ed47-4ad6-c53c-985062de0d50"
      },
      "source": [
        "def collatz_sequence_faster(initial_value):\r\n",
        "  '''\r\n",
        "  and an intial value to start at 'initial_value'\r\n",
        "\r\n",
        "  computes a the collats sequence via the formula\r\n",
        "  3(initial_value)+1\r\n",
        "  breaks when the sequence 4,2,1 is reached\r\n",
        "  collatz_sequence: num -> num\r\n",
        "  '''\r\n",
        "\r\n",
        "  value_1 = int(initial_value) #current iteration\r\n",
        "  value_2 = 0 #second back\r\n",
        "  value_3 = 0 #third back\r\n",
        "  iterations = 0\r\n",
        "  while (value_3, value_2, value_1) != (4,2,1):\r\n",
        "    iterations += 1\r\n",
        "    if value_1 & 1 == 0: #fast way to check if even\r\n",
        "      value_3 = value_2  #move value 2 to value 3\r\n",
        "      value_2 = value_1  #move value 1 to value 2\r\n",
        "      value_1 = int(value_1/2)#divide by 2 and update value 1\r\n",
        "    else:\r\n",
        "      value_3 = value_2  #move value 2 to value 3\r\n",
        "      value_2 = value_1  #move value 1 to value 2\r\n",
        "      value_1 = int((3 * value_1) + 1) #3n+1 and update value 1\r\n",
        "  return (iterations)\r\n",
        "\r\n",
        "\r\n",
        "%timeit(collatz_sequence_faster(3452345))\r\n",
        "\r\n",
        "\r\n",
        "\r\n",
        "    "
      ],
      "execution_count": null,
      "outputs": [
        {
          "output_type": "stream",
          "text": [
            "10000 loops, best of 3: 28.8 µs per loop\n"
          ],
          "name": "stdout"
        }
      ]
    },
    {
      "cell_type": "code",
      "metadata": {
        "id": "mVIJ_CUwaayI"
      },
      "source": [
        "#Perry Winsor\r\n",
        "def sequick(n):\r\n",
        "  '''\r\n",
        "  Take 2\r\n",
        "  '''\r\n",
        "  while n != 1:\r\n",
        "    if n % 2 == 0:\r\n",
        "      n /= 2\r\n",
        "    else:\r\n",
        "      n = 3*n+1\r\n",
        "  return True"
      ],
      "execution_count": 7,
      "outputs": []
    },
    {
      "cell_type": "code",
      "metadata": {
        "colab": {
          "base_uri": "https://localhost:8080/"
        },
        "id": "TJMc6CDIzsWl",
        "outputId": "0ed9c336-ad51-473c-c692-39947ff24108"
      },
      "source": [
        "%timeit(sequick(1000000))"
      ],
      "execution_count": null,
      "outputs": [
        {
          "output_type": "stream",
          "text": [
            "10000 loops, best of 3: 28.4 µs per loop\n"
          ],
          "name": "stdout"
        }
      ]
    },
    {
      "cell_type": "code",
      "metadata": {
        "id": "5wAD0YROzE9C"
      },
      "source": [
        "def check(m):\r\n",
        "  '''\r\n",
        "  Rough, brute-force check.\r\n",
        "  Likely to be effective for small numbers but slow at large m.\r\n",
        "  '''\r\n",
        "  for n in range (1,m+1):\r\n",
        "    if sequick(n) == True:\r\n",
        "      None\r\n",
        "    else:\r\n",
        "      return False\r\n",
        "  return True"
      ],
      "execution_count": 8,
      "outputs": []
    },
    {
      "cell_type": "code",
      "metadata": {
        "colab": {
          "base_uri": "https://localhost:8080/"
        },
        "id": "AchLANMDzZLT",
        "outputId": "3626e7b1-19e2-4a25-b136-c896dbd5ab8f"
      },
      "source": [
        "%timeit(check(10000))"
      ],
      "execution_count": null,
      "outputs": [
        {
          "output_type": "stream",
          "text": [
            "10 loops, best of 3: 163 ms per loop\n"
          ],
          "name": "stdout"
        }
      ]
    },
    {
      "cell_type": "code",
      "metadata": {
        "colab": {
          "base_uri": "https://localhost:8080/"
        },
        "id": "_p3_NGPDzgv-",
        "outputId": "dec69bd6-0f3f-4a7f-ac32-b8c123adb5c3"
      },
      "source": [
        "%timeit(check(100000))"
      ],
      "execution_count": null,
      "outputs": [
        {
          "output_type": "stream",
          "text": [
            "1 loop, best of 3: 2.12 s per loop\n"
          ],
          "name": "stdout"
        }
      ]
    },
    {
      "cell_type": "markdown",
      "metadata": {
        "id": "BlT3v4Rb0OX1"
      },
      "source": [
        "It won't run for m = 1000000."
      ]
    },
    {
      "cell_type": "markdown",
      "metadata": {
        "id": "RgYB87_mOqwC"
      },
      "source": [
        "Here's a really fast checker. works on really big values, n>10000000000000000000000   \r\n",
        "-Burleigh"
      ]
    },
    {
      "cell_type": "markdown",
      "metadata": {
        "id": "YR0-KoPtO2Lv"
      },
      "source": [
        "## Burleighs Very fast check and graphing"
      ]
    },
    {
      "cell_type": "code",
      "metadata": {
        "colab": {
          "base_uri": "https://localhost:8080/"
        },
        "id": "ufTzX1b2OBFE",
        "outputId": "13f4c205-38dd-46fa-8787-678201a072bd"
      },
      "source": [
        "def collatz_sequence_v3(initial_value):\r\n",
        "  '''\r\n",
        "  and an intial value to start at 'initial_value'\r\n",
        "\r\n",
        "  computes a the collats sequence via the formula\r\n",
        "  3(initial_value)+1\r\n",
        "  breaks when the sequence 4 is reached\r\n",
        "  as we know that 4 leads to 2 and our sequence is reached\r\n",
        "  collatz_sequence: num -> boolean\r\n",
        "  '''\r\n",
        "  value = int(initial_value) #current iteration\r\n",
        "  iterations = 0\r\n",
        "  while (value) != 4:\r\n",
        "    iterations += 1\r\n",
        "    if value & 1 == 0: #fast way to check if even\r\n",
        "      value = int(value/2)#divide by 2 and update value\r\n",
        "    else:\r\n",
        "      value = int((3 * value) + 1) #3n+1 and update value\r\n",
        "  #print(iterations)\r\n",
        "  return (True)\r\n"
      ],
      "execution_count": 1,
      "outputs": [
        {
          "output_type": "execute_result",
          "data": {
            "text/plain": [
              "True"
            ]
          },
          "metadata": {
            "tags": []
          },
          "execution_count": 1
        }
      ]
    },
    {
      "cell_type": "markdown",
      "metadata": {
        "id": "P_-EV8gHPNX8"
      },
      "source": [
        "Here are some comparisons on speed"
      ]
    },
    {
      "cell_type": "code",
      "metadata": {
        "colab": {
          "base_uri": "https://localhost:8080/"
        },
        "id": "-MDT8Ea3OB-x",
        "outputId": "b64b99bb-061b-4ff9-b48e-da397131c882"
      },
      "source": [
        "%timeit(check(10000))\r\n"
      ],
      "execution_count": 9,
      "outputs": [
        {
          "output_type": "stream",
          "text": [
            "10 loops, best of 3: 159 ms per loop\n"
          ],
          "name": "stdout"
        }
      ]
    },
    {
      "cell_type": "code",
      "metadata": {
        "colab": {
          "base_uri": "https://localhost:8080/"
        },
        "id": "H-TusGVLOHWY",
        "outputId": "70108dbd-e886-4f1c-85a1-99b733def51b"
      },
      "source": [
        "%timeit(check(100000))"
      ],
      "execution_count": 10,
      "outputs": [
        {
          "output_type": "stream",
          "text": [
            "1 loop, best of 3: 2.16 s per loop\n"
          ],
          "name": "stdout"
        }
      ]
    },
    {
      "cell_type": "code",
      "metadata": {
        "colab": {
          "base_uri": "https://localhost:8080/"
        },
        "id": "oP0nW5MKOIAL",
        "outputId": "fcc50aeb-0e26-4cf7-c45e-c734878ad49b"
      },
      "source": [
        "%timeit(collatz_sequence_v3(10000))"
      ],
      "execution_count": 11,
      "outputs": [
        {
          "output_type": "stream",
          "text": [
            "100000 loops, best of 3: 6.86 µs per loop\n"
          ],
          "name": "stdout"
        }
      ]
    },
    {
      "cell_type": "code",
      "metadata": {
        "colab": {
          "base_uri": "https://localhost:8080/"
        },
        "id": "jKW6ty4YOIth",
        "outputId": "017b975b-2c3a-4f16-bdbd-63328d12753c"
      },
      "source": [
        "%timeit(collatz_sequence_v3(100000))"
      ],
      "execution_count": 3,
      "outputs": [
        {
          "output_type": "stream",
          "text": [
            "10000 loops, best of 3: 31.6 µs per loop\n"
          ],
          "name": "stdout"
        }
      ]
    },
    {
      "cell_type": "code",
      "metadata": {
        "colab": {
          "base_uri": "https://localhost:8080/"
        },
        "id": "41OU6z_7ORe8",
        "outputId": "847f6948-5449-43f8-daba-50d8e8a7080b"
      },
      "source": [
        "%timeit(collatz_sequence_v3(1000000000000000000000000))"
      ],
      "execution_count": 18,
      "outputs": [
        {
          "output_type": "stream",
          "text": [
            "10000 loops, best of 3: 70 µs per loop\n"
          ],
          "name": "stdout"
        }
      ]
    },
    {
      "cell_type": "code",
      "metadata": {
        "id": "5L__l7o9PwzX"
      },
      "source": [
        ""
      ],
      "execution_count": null,
      "outputs": []
    }
  ]
}