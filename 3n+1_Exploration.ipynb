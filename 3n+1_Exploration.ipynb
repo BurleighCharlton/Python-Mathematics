{
  "nbformat": 4,
  "nbformat_minor": 0,
  "metadata": {
    "colab": {
      "name": "3n+1_Exploration.ipynb",
      "provenance": [],
      "collapsed_sections": [
        "kq4bBKXEUUM_"
      ],
      "toc_visible": true
    },
    "kernelspec": {
      "name": "python3",
      "display_name": "Python 3"
    }
  },
  "cells": [
    {
      "cell_type": "markdown",
      "metadata": {
        "id": "ILoBTuF2Nfu_"
      },
      "source": [
        "#Exploration 1: The 3n + 1 conjecture"
      ]
    },
    {
      "cell_type": "markdown",
      "metadata": {
        "id": "ehJ2-mKgN9Vo"
      },
      "source": [
        "##By Burleigh Charlton, Ian Wallace,  Perry Winsor, Louis Wooliever, and Chun Zhou"
      ]
    },
    {
      "cell_type": "markdown",
      "metadata": {
        "id": "J5NFxnOkeUI6"
      },
      "source": [
        "The $3n+1$ conjecture, also known as the Collatz conjecture, is an unproven conjecture in modern mathematics about the sequence:\r\n",
        "\r\n",
        "Start with a postivie integer $n$,\r\n",
        "\r\n",
        "If $n$ is even, divide by $2$,\r\n",
        "\r\n",
        "If $n$ is odd, multiply by $3$ and add $1$,\r\n",
        "\r\n",
        "The conjecture states that all n will eventually stablize to the cycle $4,2,1$. Given that this problem still troubles modern mathematicians, we will set out to check the conjecture up to $n=1,000,000$."
      ]
    },
    {
      "cell_type": "markdown",
      "metadata": {
        "id": "2xB_vEKzUUhL"
      },
      "source": [
        "##Cojecture Check (required)"
      ]
    },
    {
      "cell_type": "markdown",
      "metadata": {
        "id": "NvlRWo38UfSy"
      },
      "source": [
        "###Brute force approach"
      ]
    },
    {
      "cell_type": "markdown",
      "metadata": {
        "id": "wC3ntGg2SHN5"
      },
      "source": [
        "Initially, I tried a brute force approach. Checking each value individually up to 1,000,000. This however, did not work, as expected.\r\n",
        "\r\n",
        "The brute force approach was to slow, and required too much processing."
      ]
    },
    {
      "cell_type": "code",
      "metadata": {
        "id": "1pw6QsPgT7pA"
      },
      "source": [
        "def seqonce(n):\r\n",
        "  '''\r\n",
        "  int -> int\r\n",
        "  Runs a single itteration of the Collatz sequence.\r\n",
        "  '''\r\n",
        "  if n % 2 == 0:\r\n",
        "    n = n//2\r\n",
        "  else:\r\n",
        "    n = 3*n+1\r\n",
        "  return n"
      ],
      "execution_count": null,
      "outputs": []
    },
    {
      "cell_type": "code",
      "metadata": {
        "id": "mVIJ_CUwaayI"
      },
      "source": [
        "def seq(n):\r\n",
        "  '''\r\n",
        "  int -> True\r\n",
        "  Runs the Collatz sequence until n is 4.\r\n",
        "  '''\r\n",
        "  while n != 4:\r\n",
        "    n = seqonce(n)\r\n",
        "  return True"
      ],
      "execution_count": null,
      "outputs": []
    },
    {
      "cell_type": "code",
      "metadata": {
        "id": "5wAD0YROzE9C"
      },
      "source": [
        "def check(n):\r\n",
        "  '''\r\n",
        "  int -> bool\r\n",
        "  Rough, brute-force check.\r\n",
        "  Likely to be effective for small numbers but slow at large n.\r\n",
        "  '''\r\n",
        "  for m in range (1,n+1):\r\n",
        "    if seq(m) == True:\r\n",
        "      None\r\n",
        "\r\n",
        "  return True"
      ],
      "execution_count": null,
      "outputs": []
    },
    {
      "cell_type": "code",
      "metadata": {
        "colab": {
          "base_uri": "https://localhost:8080/"
        },
        "id": "HRcsU_-RSrwL",
        "outputId": "3729afef-76cb-46e4-e832-f6493625034c"
      },
      "source": [
        "check(1000)"
      ],
      "execution_count": null,
      "outputs": [
        {
          "output_type": "execute_result",
          "data": {
            "text/plain": [
              "True"
            ]
          },
          "metadata": {
            "tags": []
          },
          "execution_count": 177
        }
      ]
    },
    {
      "cell_type": "markdown",
      "metadata": {
        "id": "-3xlwXGYSiTL"
      },
      "source": [
        "In the same mind, I put together a quick function to provide the full sequence as n approaches 1."
      ]
    },
    {
      "cell_type": "code",
      "metadata": {
        "id": "VI2mtWH1UcyQ"
      },
      "source": [
        "def seqlist(n):\r\n",
        "  '''\r\n",
        "  Creates a list of the sequence.\r\n",
        "  int(n) -> list(values)\r\n",
        "  '''\r\n",
        "  initial_value = n \r\n",
        "  values = [] \r\n",
        "  while n not in values:\r\n",
        "    values.append(n)\r\n",
        "    n = seqonce(n)\r\n",
        "  return values"
      ],
      "execution_count": null,
      "outputs": []
    },
    {
      "cell_type": "code",
      "metadata": {
        "colab": {
          "base_uri": "https://localhost:8080/"
        },
        "id": "7Gca74WjS0XV",
        "outputId": "03ad9f8b-cad8-4abd-c49c-e9ef5927c74e"
      },
      "source": [
        "seqlist(4)"
      ],
      "execution_count": null,
      "outputs": [
        {
          "output_type": "execute_result",
          "data": {
            "text/plain": [
              "[4, 2, 1]"
            ]
          },
          "metadata": {
            "tags": []
          },
          "execution_count": 188
        }
      ]
    },
    {
      "cell_type": "markdown",
      "metadata": {
        "id": "hU_WEK47UkJR"
      },
      "source": [
        "###Conjecture Check"
      ]
    },
    {
      "cell_type": "markdown",
      "metadata": {
        "id": "g1DZRjfUUd1D"
      },
      "source": [
        "In order to reduce required processing, I wrote a new code that uses a checklist list. The code starts at a value, then runs the sequence from that value, stopping when it hits a value with **True**. \r\n",
        "\r\n",
        "Whenever a number is hit, the checklist value for that number is changed to **True**. \r\n",
        "\r\n",
        "Since $1$  is the only starting value with **True**, any value with **True** therefore stablizes to 1. \r\n",
        "\r\n",
        "If n returns to the starting value before hitting a different value with **True**, then the sequence stablized outside of $1$, and **False** is returned. \r\n",
        "\r\n",
        "Else, if the starting value itterates through the entire range, we know the whole checklist is **True** and **True** is returned."
      ]
    },
    {
      "cell_type": "code",
      "metadata": {
        "id": "xo-pLp6Sb_EA"
      },
      "source": [
        "def conjecture_check(maxvalue):\r\n",
        "  '''\r\n",
        "  int -> bool\r\n",
        "  Checks all numbers up to maxvalue.\r\n",
        "  Returns True if all values are checked.\r\n",
        "  Returns an False if x stablizes before hitting 1.\r\n",
        "\r\n",
        "  Constructs a list and checks it twice.\r\n",
        "  Well it checks it once, but you get the idea.\r\n",
        "  Fails to find out who is naughty xor nice.\r\n",
        "  '''\r\n",
        "\r\n",
        "  checklist = [None]*(maxvalue+1)        \r\n",
        "  checklist[1] = True               \r\n",
        "                                     \r\n",
        "  for start in range(2,maxvalue+1):          \r\n",
        "    n = start                           \r\n",
        "\r\n",
        "    while not checklist[n]:          \r\n",
        "      checklist[n] = True           \r\n",
        "      n = seqonce(n)             \r\n",
        "\r\n",
        "      while n > maxvalue:                \r\n",
        "        n = seqonce(n)    \r\n",
        "\r\n",
        "      if n == start:                    \r\n",
        "        return False    \r\n",
        "\r\n",
        "  return True"
      ],
      "execution_count": null,
      "outputs": []
    },
    {
      "cell_type": "code",
      "metadata": {
        "colab": {
          "base_uri": "https://localhost:8080/"
        },
        "id": "4_hVCmLFWqYX",
        "outputId": "951ac09e-6108-4b7a-8748-56f6ed2f6c2a"
      },
      "source": [
        "%timeit conjecture_check(1000000)"
      ],
      "execution_count": null,
      "outputs": [
        {
          "output_type": "stream",
          "text": [
            "1 loop, best of 3: 543 ms per loop\n"
          ],
          "name": "stdout"
        }
      ]
    },
    {
      "cell_type": "markdown",
      "metadata": {
        "id": "An1ahiCYW7x2"
      },
      "source": [
        "The code was able to check up to the required value of $1,000,000$ in half a second, so I checked a bit higher."
      ]
    },
    {
      "cell_type": "code",
      "metadata": {
        "colab": {
          "base_uri": "https://localhost:8080/"
        },
        "id": "-3UCN0sfQEUv",
        "outputId": "40c017ce-d9d1-4691-955b-171bb5d081ff"
      },
      "source": [
        "conjecture_check(10**7)"
      ],
      "execution_count": null,
      "outputs": [
        {
          "output_type": "execute_result",
          "data": {
            "text/plain": [
              "True"
            ]
          },
          "metadata": {
            "tags": []
          },
          "execution_count": 59
        }
      ]
    },
    {
      "cell_type": "markdown",
      "metadata": {
        "id": "iS9rBR7CQEDY"
      },
      "source": [
        "Therefore the conjecture is true up to $10,000,000$.\r\n",
        "\r\n"
      ]
    },
    {
      "cell_type": "markdown",
      "metadata": {
        "id": "Zky_aD7eXIYU"
      },
      "source": [
        "Should higher ranges need to be checked, we can rule out all even numbers up to $20,000,000$, and then all numbers $0\\mod4$ up to $40,000,000$.\r\n",
        "\r\n",
        "Which is to say, expanding the range is rather simple."
      ]
    },
    {
      "cell_type": "markdown",
      "metadata": {
        "id": "kq4bBKXEUUM_"
      },
      "source": [
        "####Debug box"
      ]
    },
    {
      "cell_type": "markdown",
      "metadata": {
        "id": "bL4gB8JrYYkk"
      },
      "source": [
        "This is just a debug version of the conjecture check function which enunciates a bit more of the inner-workings. It has a few too many print statements to run a couple million times though."
      ]
    },
    {
      "cell_type": "code",
      "metadata": {
        "id": "ZKzM42O9mV6I"
      },
      "source": [
        "def checklistdebug(maxvalue):\r\n",
        "  '''\r\n",
        "  int -> lots of print statements -> list\r\n",
        "  Debug version of conjecture_check.\r\n",
        "  '''\r\n",
        "\r\n",
        "  checklist = [None]*(maxvalue+1)   #Construct a checklist\r\n",
        "  checklist[1] = True\r\n",
        " \r\n",
        "  for start in range(2,maxvalue+1):            \r\n",
        "\r\n",
        "    print('Checking starting at {}...{}'.format(start,checklist[start]))\r\n",
        "    n = start                  \r\n",
        "\r\n",
        "    while not checklist[n]:         #Runs while n is an unchecked value \r\n",
        "      print('Checking list for {}...{}, changed to True'.format(n,checklist[n]))\r\n",
        "\r\n",
        "      checklist[n] = True           \r\n",
        "      n = seqonce(n)                \r\n",
        "        \r\n",
        "      print('n is now {}'.format(n))\r\n",
        "                                    \r\n",
        "      while n > maxvalue: #runs while n is outside of our desired range                  \r\n",
        "        print('{} is greater than {}...'.format(n,maxvalue))                  \r\n",
        "        n = seqonce(n)\r\n",
        "\r\n",
        "      if start == n:\r\n",
        "        return start            \r\n",
        "\r\n",
        "    print('->{} is {}'.format(n,checklist[n]))    \r\n",
        "\r\n",
        "  return checklist"
      ],
      "execution_count": null,
      "outputs": []
    },
    {
      "cell_type": "code",
      "metadata": {
        "id": "8ZU_-zEumyCc",
        "colab": {
          "base_uri": "https://localhost:8080/"
        },
        "outputId": "facef18b-c7d2-4483-d161-529f63a2cf88"
      },
      "source": [
        "checklistdebug(10)"
      ],
      "execution_count": null,
      "outputs": [
        {
          "output_type": "stream",
          "text": [
            "Checking starting at 2...None\n",
            "Checking list for 2...None, changed to True\n",
            "n is now 1\n",
            "->1 is True\n",
            "Checking starting at 3...None\n",
            "Checking list for 3...None, changed to True\n",
            "n is now 10\n",
            "Checking list for 10...None, changed to True\n",
            "n is now 5\n",
            "Checking list for 5...None, changed to True\n",
            "n is now 16\n",
            "16 is greater than 10...\n",
            "Checking list for 8...None, changed to True\n",
            "n is now 4\n",
            "Checking list for 4...None, changed to True\n",
            "n is now 2\n",
            "->2 is True\n",
            "Checking starting at 4...True\n",
            "->4 is True\n",
            "Checking starting at 5...True\n",
            "->5 is True\n",
            "Checking starting at 6...None\n",
            "Checking list for 6...None, changed to True\n",
            "n is now 3\n",
            "->3 is True\n",
            "Checking starting at 7...None\n",
            "Checking list for 7...None, changed to True\n",
            "n is now 22\n",
            "22 is greater than 10...\n",
            "11 is greater than 10...\n",
            "34 is greater than 10...\n",
            "17 is greater than 10...\n",
            "52 is greater than 10...\n",
            "26 is greater than 10...\n",
            "13 is greater than 10...\n",
            "40 is greater than 10...\n",
            "20 is greater than 10...\n",
            "->10 is True\n",
            "Checking starting at 8...True\n",
            "->8 is True\n",
            "Checking starting at 9...None\n",
            "Checking list for 9...None, changed to True\n",
            "n is now 28\n",
            "28 is greater than 10...\n",
            "14 is greater than 10...\n",
            "->7 is True\n",
            "Checking starting at 10...True\n",
            "->10 is True\n"
          ],
          "name": "stdout"
        },
        {
          "output_type": "execute_result",
          "data": {
            "text/plain": [
              "[None, True, True, True, True, True, True, True, True, True, True]"
            ]
          },
          "metadata": {
            "tags": []
          },
          "execution_count": 247
        }
      ]
    },
    {
      "cell_type": "markdown",
      "metadata": {
        "id": "BQcAnQDqxXta"
      },
      "source": [
        "##Negative Checking"
      ]
    },
    {
      "cell_type": "markdown",
      "metadata": {
        "id": "TQX1KTm-lbbR"
      },
      "source": [
        "After allowing the negative numbers, the original conjectures does not work on the negative integers. The negative numbers do not converge into the 1 and repeat from that because they can not change from negative to positive. Thus, I create the function that will check if the negative numbers also loop at the certain numbers to see if they have some pattern.\r\n",
        "\r\n",
        "The function below is the funtion that will run the conjecture for the input \"n\" and print out all the process of the conjecture and stop if the conjecture starts to repeat and return the number of iterations that it takes to repeat."
      ]
    },
    {
      "cell_type": "code",
      "metadata": {
        "id": "qv-I_YyFrl3K"
      },
      "source": [
        "# Optional part Check the conjecture for negative number.\r\n",
        "\r\n",
        "def conj_neg(n):\r\n",
        "  '''\r\n",
        "  Run the 3n+1 conjecture with input n. It prints out every steps until\r\n",
        "  the n become 1, which will loop after.\r\n",
        "  '''\r\n",
        "  if type(n) != int: #check if the input is integer\r\n",
        "    raise TypeError('Only integers can be even or odd.')\r\n",
        "  #if n<0: #check if the input is positive\r\n",
        "    #raise ValueError('Cannot be negative numbers.')\r\n",
        "  L =[0]\r\n",
        "  for s in range(-n):\r\n",
        "    if n%2 == 0: # when n is even, divide by 2\r\n",
        "      n = n/2\r\n",
        "    else: # when n is odd, n = 3n+1\r\n",
        "      n = 3*n+1\r\n",
        "    for i in range(len(L)): # check if the number is at 1, it will loop from there\r\n",
        "      if n == L[i]:\r\n",
        "        print(n)\r\n",
        "        print('iteration: ', len(L))\r\n",
        "        return True\r\n",
        "    print(n)  #print out every step\r\n",
        "    L.append(n)\r\n",
        "  return True"
      ],
      "execution_count": null,
      "outputs": []
    },
    {
      "cell_type": "code",
      "metadata": {
        "id": "Xs-Gozglv4ut"
      },
      "source": [
        "conj_neg(-100)"
      ],
      "execution_count": null,
      "outputs": []
    },
    {
      "cell_type": "code",
      "metadata": {
        "id": "jDjVd19kwIjK"
      },
      "source": [
        "conj_neg(-20)"
      ],
      "execution_count": null,
      "outputs": []
    },
    {
      "cell_type": "code",
      "metadata": {
        "id": "bnmdcrFUwOkh"
      },
      "source": [
        "conj_neg(-50)"
      ],
      "execution_count": null,
      "outputs": []
    },
    {
      "cell_type": "code",
      "metadata": {
        "id": "Af3I1A3SwPlQ"
      },
      "source": [
        "conj_neg(-40)"
      ],
      "execution_count": null,
      "outputs": []
    },
    {
      "cell_type": "code",
      "metadata": {
        "id": "nI7oGhuFwTDd"
      },
      "source": [
        "conj_neg(-150)"
      ],
      "execution_count": null,
      "outputs": []
    },
    {
      "cell_type": "code",
      "metadata": {
        "id": "3m847coflkLr"
      },
      "source": [
        "conj_neg(-2000)"
      ],
      "execution_count": null,
      "outputs": []
    },
    {
      "cell_type": "code",
      "metadata": {
        "id": "Yv61G_-hl3Hc"
      },
      "source": [
        "conj_neg(-10101300)"
      ],
      "execution_count": null,
      "outputs": []
    },
    {
      "cell_type": "code",
      "metadata": {
        "id": "bPs8P0Eulm2M"
      },
      "source": [
        "conj_neg(-100000)"
      ],
      "execution_count": null,
      "outputs": []
    },
    {
      "cell_type": "code",
      "metadata": {
        "id": "7YYmBXpklzO_"
      },
      "source": [
        "conj_neg(-22334000)"
      ],
      "execution_count": null,
      "outputs": []
    },
    {
      "cell_type": "code",
      "metadata": {
        "id": "RBj04iNplqYk"
      },
      "source": [
        "conj_neg(-2013120)"
      ],
      "execution_count": null,
      "outputs": []
    },
    {
      "cell_type": "markdown",
      "metadata": {
        "id": "Ob55c0ClmEsg"
      },
      "source": [
        "After runing many examples through the function, it is obvious that negative integers would also loop on the conjectures at the certain numbers. However, the negative integers do not all converge to the -1 and repeat from their which similar as the positive integer. Instead, only the negative integers that become one of the negative of power of 2 (e.g. -(2^x)) within the conjecture would eventually drop to -1.\r\n",
        "\r\n",
        "The reason for the difference results between the negative and positive integers is that even the multiple and division works similar for negative and positive integers, the addition and subtraction work differently for negative and positive integers. Thus, it create the results that for even negative numbers, \"n/2\" works same as the positive numbers, but for the odd negative numbers, \"3n+1\" would result in \"-3n+1 = -|3n-1|\", which would be different with the positive.\r\n",
        "\r\n",
        "However, even the negative integers works different from positive integers, they also will repeat at some negative integers. Generally, the larger the negative integer it is, more iteration it may require to reach that repeat point. There is not specific integer for every negative integer to loop."
      ]
    },
    {
      "cell_type": "markdown",
      "metadata": {
        "id": "YR0-KoPtO2Lv"
      },
      "source": [
        "## Burleighs Graphing"
      ]
    },
    {
      "cell_type": "code",
      "metadata": {
        "id": "DdMHNCdTtk1V"
      },
      "source": [
        "def collatz_sequence_tuple(initial_value, iterations):\r\n",
        "  '''\r\n",
        "  takes a number of iterations 'iterations'\r\n",
        "  and an intial value to start at 'initial_value'\r\n",
        "  returns a list of tuples of the form (iteration, value)\r\n",
        "\r\n",
        "  computes a the collats sequence via the formula\r\n",
        "  3(initial_value)+1\r\n",
        "  collatz_sequence: num, num -> list\r\n",
        "  '''\r\n",
        "  current_value = int(initial_value)\r\n",
        "  sequence_list = [(0,initial_value)]\r\n",
        "  for i in range(1, iterations):\r\n",
        "    if current_value & 1 == 0: #fast way to check if even\r\n",
        "      current_value = int(current_value/2)#divide by 2\r\n",
        "      sequence_list.append((i, current_value))\r\n",
        "    else:\r\n",
        "      current_value = int((3 * current_value) + 1) #3n+1\r\n",
        "      sequence_list.append((i,current_value))\r\n",
        "  return sequence_list\r\n",
        "\r\n"
      ],
      "execution_count": null,
      "outputs": []
    },
    {
      "cell_type": "code",
      "metadata": {
        "id": "5L__l7o9PwzX"
      },
      "source": [
        "import matplotlib.pyplot as plt\r\n",
        "import numpy as np\r\n",
        "import matplotlib.cm as cm\r\n",
        "from matplotlib.ticker import (MultipleLocator, FormatStrFormatter,\r\n",
        "                               AutoMinorLocator)\r\n",
        "\r\n",
        "def plot_collatz(max_val, iterations):\r\n",
        "  '''\r\n",
        "  plots the collatz sequence of starting values\r\n",
        "  1 through 'max_val', or 'iterations' iterations\r\n",
        "  plot_collatz: num, num -> graph\r\n",
        "  '''\r\n",
        "  fig, ax = plt.subplots(1,1) # gets a handle for the AxesSubplot object\r\n",
        "  #ax=fig.add_subplot(111)\r\n",
        "  color=iter(cm.rainbow(np.linspace(0,1,max_val)))\r\n",
        "  for i in range(1, max_val):\r\n",
        "    c=next(color)\r\n",
        "    data_in_array = np.array(collatz_sequence_tuple(i, iterations)).T #put the list into an array and transpose it\r\n",
        "    x,y = data_in_array #make it x and y\r\n",
        "    #fig, ax = plt.subplots(1,1) # gets a handle for the AxesSubplot object\r\n",
        "    #ax.plot(x, y, 'ro')\r\n",
        "    ax.plot(x, y, c=c, marker='+', linestyle='dashed', linewidth=0, markersize=4)\r\n",
        "  plt.title('Collatz Sequence 0 to {}'.format(max_val))\r\n",
        "  plt.xlabel('Iteration')\r\n",
        "  plt.ylabel('Value')\r\n",
        "  #ax.xaxis.set_major_locator(MultipleLocator(iterations/10))\r\n",
        "  ax.set_xlim(0,iterations )\r\n",
        "  plt.show()\r\n",
        "\r\n"
      ],
      "execution_count": null,
      "outputs": []
    },
    {
      "cell_type": "markdown",
      "metadata": {
        "id": "z9kT4xd0ySpL"
      },
      "source": [
        "###Plotting"
      ]
    },
    {
      "cell_type": "code",
      "metadata": {
        "id": "hQp7cPz0tsVN"
      },
      "source": [
        "plot_collatz(10,30)"
      ],
      "execution_count": null,
      "outputs": []
    },
    {
      "cell_type": "code",
      "metadata": {
        "id": "AkvGcwSztuva"
      },
      "source": [
        "plot_collatz(100,100)"
      ],
      "execution_count": null,
      "outputs": []
    },
    {
      "cell_type": "code",
      "metadata": {
        "id": "AIcGut1muFNU"
      },
      "source": [
        ""
      ],
      "execution_count": null,
      "outputs": []
    },
    {
      "cell_type": "markdown",
      "metadata": {
        "id": "D-a05oHr06q4"
      },
      "source": [
        "##Ian's Corner of dropping"
      ]
    },
    {
      "cell_type": "markdown",
      "metadata": {
        "id": "O4Zb_eJyqTGI"
      },
      "source": [
        "###Testing"
      ]
    },
    {
      "cell_type": "code",
      "metadata": {
        "id": "YON33iDk09d0"
      },
      "source": [
        "def conj_drop(n):\r\n",
        "  #Performs the function as usual, but terminates once the sequence goes below the input\r\n",
        "  orig = n\r\n",
        "  steps = 0\r\n",
        "  while n >= orig:\r\n",
        "    if n%2 == 0:\r\n",
        "      n = n//2\r\n",
        "    else:\r\n",
        "      n = 3*n + 1\r\n",
        "    steps += 1\r\n",
        "  return steps\r\n",
        "\r\n",
        "def list_conj_drop(n,array,total):\r\n",
        "  '''\r\n",
        "  Run the 3n+1 conjecture with input n. It prints out every steps until\r\n",
        "  the n become 1, which will loop after.\r\n",
        "  'n'     the number to check\r\n",
        "  'array' as a initially populated with all 0 of length 'total'\r\n",
        "  'total' the highest number we are checking to\r\n",
        "  conj: num, array, num -> boolean\r\n",
        "  '''\r\n",
        "  if type(n) != int: #check if the input is integer\r\n",
        "    raise TypeError('Only integers can be even or odd.')\r\n",
        "  \r\n",
        "  original = n\r\n",
        "  t = n\r\n",
        "  while (n != 1 and array[t] != 1 and original <= n): # check if the number is at 1, it will loop from there \r\n",
        "    if n%2 == 0: # when n is even, divide by 2\r\n",
        "      n = (int)(n/2)\r\n",
        "    else: # when n is odd, n = 3n+1\r\n",
        "      n = (int)(3*n+1)\r\n",
        "    if n <= total:\r\n",
        "      t = n\r\n",
        "    else:\r\n",
        "      t = 0\r\n",
        "    \r\n",
        "    #print('n is: ',n, 'array[{}]{}'.format(t,array[t]))  #print out every step\r\n",
        "    #print(array)\r\n",
        "    \r\n",
        "  \r\n",
        "  return True"
      ],
      "execution_count": null,
      "outputs": []
    },
    {
      "cell_type": "code",
      "metadata": {
        "colab": {
          "base_uri": "https://localhost:8080/"
        },
        "id": "meeutPvzqdIQ",
        "outputId": "95f2bfd2-fd89-4729-8b22-ebbe4429a0e6"
      },
      "source": [
        "%timeit conj_drop(19083275)"
      ],
      "execution_count": null,
      "outputs": [
        {
          "output_type": "stream",
          "text": [
            "The slowest run took 5.09 times longer than the fastest. This could mean that an intermediate result is being cached.\n",
            "1000000 loops, best of 3: 1.13 µs per loop\n"
          ],
          "name": "stdout"
        }
      ]
    },
    {
      "cell_type": "code",
      "metadata": {
        "colab": {
          "base_uri": "https://localhost:8080/"
        },
        "id": "glS324JjqeoJ",
        "outputId": "f22f207c-5da9-4ddc-98a2-c53933bfb08f"
      },
      "source": [
        "%timeit list_conj_drop(19083275,[0]*19083276,19083275)"
      ],
      "execution_count": null,
      "outputs": [
        {
          "output_type": "stream",
          "text": [
            "10 loops, best of 3: 126 ms per loop\n"
          ],
          "name": "stdout"
        }
      ]
    },
    {
      "cell_type": "code",
      "metadata": {
        "colab": {
          "base_uri": "https://localhost:8080/"
        },
        "id": "xOhyE9FJqpMA",
        "outputId": "6e4482a0-f7ed-4546-a9cf-7a8ebcb18b0b"
      },
      "source": [
        "%timeit conj_drop(1289346197)"
      ],
      "execution_count": null,
      "outputs": [
        {
          "output_type": "stream",
          "text": [
            "The slowest run took 9.27 times longer than the fastest. This could mean that an intermediate result is being cached.\n",
            "1000000 loops, best of 3: 664 ns per loop\n"
          ],
          "name": "stdout"
        }
      ]
    },
    {
      "cell_type": "code",
      "metadata": {
        "colab": {
          "base_uri": "https://localhost:8080/"
        },
        "id": "TC6vIfsSqr6Q",
        "outputId": "3ad2347c-429a-428d-b5e4-3fff4f8bb737"
      },
      "source": [
        "%timeit list_conj_drop(1289346197,[0]*1289346198,1289346197)"
      ],
      "execution_count": null,
      "outputs": [
        {
          "output_type": "stream",
          "text": [
            "1 loop, best of 3: 6.45 s per loop\n"
          ],
          "name": "stdout"
        }
      ]
    },
    {
      "cell_type": "markdown",
      "metadata": {
        "id": "SuDEC8TYqhCo"
      },
      "source": [
        "`list_conj_drop` is based off a function used to study the complete sequences of various inputs, but for whatever reason, it seems like brute force is working faster for finding the drop times."
      ]
    },
    {
      "cell_type": "markdown",
      "metadata": {
        "id": "AYCORleOht22"
      },
      "source": [
        "####Discussion"
      ]
    },
    {
      "cell_type": "markdown",
      "metadata": {
        "id": "3Uh6t-azhyqT"
      },
      "source": [
        "I put together a quick code to test dropping times:\r\n",
        "\r\n",
        "```\r\n",
        "dropping(n)\r\n",
        "```\r\n",
        "which runs the sequence while counting the itterations until n is below the initial value.\r\n"
      ]
    },
    {
      "cell_type": "code",
      "metadata": {
        "colab": {
          "base_uri": "https://localhost:8080/"
        },
        "id": "jnyIDY3Uih0r",
        "outputId": "8e0eeb26-2cdf-4a91-b119-fab1d6f86741"
      },
      "source": [
        "dropping(n=17)"
      ],
      "execution_count": null,
      "outputs": [
        {
          "output_type": "execute_result",
          "data": {
            "text/plain": [
              "3"
            ]
          },
          "metadata": {
            "tags": []
          },
          "execution_count": 205
        }
      ]
    },
    {
      "cell_type": "code",
      "metadata": {
        "colab": {
          "base_uri": "https://localhost:8080/"
        },
        "id": "spJ6itYDiq2U",
        "outputId": "2f5c2684-f745-4f54-989a-626653230f37"
      },
      "source": [
        "seqlist(n=17)"
      ],
      "execution_count": null,
      "outputs": [
        {
          "output_type": "execute_result",
          "data": {
            "text/plain": [
              "[17, 52, 26, 13, 40, 20, 10, 5, 16, 8, 4, 2, 1]"
            ]
          },
          "metadata": {
            "tags": []
          },
          "execution_count": 206
        }
      ]
    },
    {
      "cell_type": "markdown",
      "metadata": {
        "id": "1acaEtZ9iuWr"
      },
      "source": [
        "Not much can be learned from looking simply at individual dropping times. In fact, they seem to be completely random. I compiled a list of droptimes using\r\n",
        "\r\n",
        "```\r\n",
        "createdroplist(n)\r\n",
        "```\r\n",
        "which makes makes a quick list of dropping times for values up to n.\r\n"
      ]
    },
    {
      "cell_type": "code",
      "metadata": {
        "colab": {
          "base_uri": "https://localhost:8080/"
        },
        "id": "r7rUTL25jYJ7",
        "outputId": "90274b7e-481a-4164-e7ff-3968908531a0"
      },
      "source": [
        "maxvalue = 2**(20+2)\r\n",
        "droplist = createdroplist(maxvalue)\r\n",
        "droplist[17]"
      ],
      "execution_count": null,
      "outputs": [
        {
          "output_type": "execute_result",
          "data": {
            "text/plain": [
              "3"
            ]
          },
          "metadata": {
            "tags": []
          },
          "execution_count": 225
        }
      ]
    },
    {
      "cell_type": "markdown",
      "metadata": {
        "id": "vuBkvbZEjiKs"
      },
      "source": [
        "Looking at the first 100 values:"
      ]
    },
    {
      "cell_type": "code",
      "metadata": {
        "id": "HVwaQqJGjmIn"
      },
      "source": [
        "droplist[1:101]"
      ],
      "execution_count": null,
      "outputs": []
    },
    {
      "cell_type": "markdown",
      "metadata": {
        "id": "6Llw3OzPj3sj"
      },
      "source": [
        "['Undefinded',\r\n",
        " 1,\r\n",
        " 6,\r\n",
        " 1,\r\n",
        " 3,\r\n",
        " 1,\r\n",
        " 11,\r\n",
        " 1,\r\n",
        " 3,\r\n",
        " 1,\r\n",
        " 8,\r\n",
        " 1,\r\n",
        " 3,\r\n",
        " 1,\r\n",
        " 11,\r\n",
        " 1,\r\n",
        " 3,\r\n",
        " 1,\r\n",
        " 6,\r\n",
        " 1,\r\n",
        " 3,\r\n",
        " 1,\r\n",
        " 8,\r\n",
        " 1,\r\n",
        " 3,\r\n",
        " 1,\r\n",
        " 96,\r\n",
        " 1,\r\n",
        " 3,\r\n",
        " 1,\r\n",
        " 91,\r\n",
        " 1,\r\n",
        " 3,\r\n",
        " 1,\r\n",
        " 6,\r\n",
        " 1,\r\n",
        " 3,\r\n",
        " 1,\r\n",
        " 13,\r\n",
        " 1,\r\n",
        " 3,\r\n",
        " 1,\r\n",
        " 8,\r\n",
        " 1,\r\n",
        " 3,\r\n",
        " 1,\r\n",
        " 88,\r\n",
        " 1,\r\n",
        " 3,\r\n",
        " 1,\r\n",
        " 6,\r\n",
        " 1,\r\n",
        " 3,\r\n",
        " 1,\r\n",
        " 8,\r\n",
        " 1,\r\n",
        " 3,\r\n",
        " 1,\r\n",
        " 11,\r\n",
        " 1,\r\n",
        " 3,\r\n",
        " 1,\r\n",
        " 88,\r\n",
        " 1,\r\n",
        " 3,\r\n",
        " 1,\r\n",
        " 6,\r\n",
        " 1,\r\n",
        " 3,\r\n",
        " 1,\r\n",
        " 83,\r\n",
        " 1,\r\n",
        " 3,\r\n",
        " 1,\r\n",
        " 8,\r\n",
        " 1,\r\n",
        " 3,\r\n",
        " 1,\r\n",
        " 13,\r\n",
        " 1,\r\n",
        " 3,\r\n",
        " 1,\r\n",
        " 6,\r\n",
        " 1,\r\n",
        " 3,\r\n",
        " 1,\r\n",
        " 8,\r\n",
        " 1,\r\n",
        " 3,\r\n",
        " 1,\r\n",
        " 73,\r\n",
        " 1,\r\n",
        " 3,\r\n",
        " 1,\r\n",
        " 13,\r\n",
        " 1,\r\n",
        " 3,\r\n",
        " 1,\r\n",
        " 6,\r\n",
        " 1]"
      ]
    },
    {
      "cell_type": "markdown",
      "metadata": {
        "id": "Rf4v4Wsaj5T5"
      },
      "source": [
        "An obvious pattern arrises as all even numbers have a dropping time of $1$. In this case I did speed up my code by writting this in initially, but proof should be unnecessary. \r\n",
        "\r\n",
        "Interestingly though, all numbers $1\\mod4$ seem to drop in 3. So I explored this idea a bit further."
      ]
    },
    {
      "cell_type": "markdown",
      "metadata": {
        "id": "zlRFbGWWhJjA"
      },
      "source": [
        "####Code"
      ]
    },
    {
      "cell_type": "code",
      "metadata": {
        "id": "YPFf2QSphPTR"
      },
      "source": [
        "def dropping(n):\r\n",
        "  '''\r\n",
        "  input(int) -> int\r\n",
        "  Code that returns the dropping value of n.\r\n",
        "  '''\r\n",
        "  if n % 2 == 0:\r\n",
        "    return 1\r\n",
        "  elif n <= 1:\r\n",
        "    return False\r\n",
        "  else:\r\n",
        "    init_val = n\r\n",
        "    itteration = 0\r\n",
        "    while n >= init_val:\r\n",
        "      itteration += 1\r\n",
        "      n = seqonce(n)\r\n",
        "  return itteration "
      ],
      "execution_count": null,
      "outputs": []
    },
    {
      "cell_type": "code",
      "metadata": {
        "id": "QKgL2H95hgbu"
      },
      "source": [
        "def createdroplist(maxvalue):\r\n",
        "  '''\r\n",
        "  int -> list\r\n",
        "  Creates a list of all dropping times for values up to n.\r\n",
        "  '''\r\n",
        "  droplist = [None]*(maxvalue+1)\r\n",
        "  droplist[1] = 'Undefinded'\r\n",
        "  droplist[2: :2]=[1]*(maxvalue//2)\r\n",
        "  for x in range(3,maxvalue+1,2):\r\n",
        "    droplist[x]=dropping(x)\r\n",
        "  return droplist"
      ],
      "execution_count": null,
      "outputs": []
    },
    {
      "cell_type": "markdown",
      "metadata": {
        "id": "ELMHChmCufUP"
      },
      "source": [
        "###Exploring Dropping Times $\\text{mod } 2^n$"
      ]
    },
    {
      "cell_type": "code",
      "metadata": {
        "id": "wKIZoi9MrNBA"
      },
      "source": [
        "def conj_drop_mod4(n):\r\n",
        "  mod4list = []\r\n",
        "  for i in range(3,n+1,2):\r\n",
        "    if conj_drop(i) % 4 == 0:\r\n",
        "      mod4list.append(i)\r\n",
        "  return mod4list\r\n",
        "\r\n",
        "\r\n",
        "def conj_drop_mod8(n):\r\n",
        "  mod8list = []\r\n",
        "  for i in range(3,n+1,2):\r\n",
        "    if conj_drop(i) % 8 == 0:\r\n",
        "      mod8list.append(i)\r\n",
        "  return mod8list\r\n",
        "\r\n",
        "\r\n",
        "def conj_drop_mod16(n):\r\n",
        "  mod16list = []\r\n",
        "  for i in range(3,n+1,2):\r\n",
        "    if conj_drop(i) % 16 == 0:\r\n",
        "      mod16list.append(i)\r\n",
        "  return mod16list\r\n",
        "\r\n",
        "\r\n",
        "def conj_drop_mod32(n):\r\n",
        "  mod32list = []\r\n",
        "  for i in range(3,n+1,2):\r\n",
        "    if conj_drop(i) % 32 == 0:\r\n",
        "      mod32list.append(i)\r\n",
        "  return mod32list\r\n",
        "\r\n",
        "\r\n",
        "def conj_drop_mod64(n):\r\n",
        "  mod64list = []\r\n",
        "  for i in range(3,n+1,2):\r\n",
        "    if conj_drop(i) % 64 == 0:\r\n",
        "      mod64list.append(i)\r\n",
        "  return mod64list"
      ],
      "execution_count": null,
      "outputs": []
    },
    {
      "cell_type": "code",
      "metadata": {
        "colab": {
          "base_uri": "https://localhost:8080/"
        },
        "id": "smRbFQeZsXou",
        "outputId": "4f6b0876-848f-4710-de67-6852ca28f53d"
      },
      "source": [
        "conj_drop_mod64(1000000)"
      ],
      "execution_count": null,
      "outputs": [
        {
          "output_type": "execute_result",
          "data": {
            "text/plain": [
              "[336199, 366447, 611455, 695067, 909311]"
            ]
          },
          "metadata": {
            "tags": []
          },
          "execution_count": 16
        }
      ]
    },
    {
      "cell_type": "code",
      "metadata": {
        "colab": {
          "base_uri": "https://localhost:8080/"
        },
        "id": "WOVjDdTttvzV",
        "outputId": "ca7c9a63-f086-41cb-bff7-fea3bd363f52"
      },
      "source": [
        "%timeit conj_drop_mod64(1000000)"
      ],
      "execution_count": null,
      "outputs": [
        {
          "output_type": "stream",
          "text": [
            "1 loop, best of 3: 692 ms per loop\n"
          ],
          "name": "stdout"
        }
      ]
    },
    {
      "cell_type": "code",
      "metadata": {
        "colab": {
          "base_uri": "https://localhost:8080/"
        },
        "id": "Z9RfTWm-uqTc",
        "outputId": "402c6097-68c1-4256-ff62-3c625f65db3a"
      },
      "source": [
        "conj_drop_mod32(10000)"
      ],
      "execution_count": null,
      "outputs": [
        {
          "output_type": "execute_result",
          "data": {
            "text/plain": [
              "[27,\n",
              " 239,\n",
              " 487,\n",
              " 763,\n",
              " 1127,\n",
              " 1255,\n",
              " 1439,\n",
              " 1511,\n",
              " 2139,\n",
              " 2175,\n",
              " 2255,\n",
              " 2511,\n",
              " 2879,\n",
              " 3199,\n",
              " 3279,\n",
              " 3871,\n",
              " 4167,\n",
              " 4351,\n",
              " 4511,\n",
              " 5211,\n",
              " 5223,\n",
              " 5247,\n",
              " 5679,\n",
              " 6235,\n",
              " 7271,\n",
              " 7583,\n",
              " 7615,\n",
              " 7707,\n",
              " 7999,\n",
              " 8039,\n",
              " 8283,\n",
              " 8319,\n",
              " 8607,\n",
              " 8751,\n",
              " 9023,\n",
              " 9063,\n",
              " 9343,\n",
              " 9447,\n",
              " 9703]"
            ]
          },
          "metadata": {
            "tags": []
          },
          "execution_count": 22
        }
      ]
    },
    {
      "cell_type": "markdown",
      "metadata": {
        "id": "IU5gsQtMkeFM"
      },
      "source": [
        "####Discussion"
      ]
    },
    {
      "cell_type": "markdown",
      "metadata": {
        "id": "H2wF-NnIk32D"
      },
      "source": [
        "In order to explore more modulo powers of $2$, I wrote a code to sort values for me:\r\n",
        "\r\n",
        "```\r\n",
        "sortdroplistmodpow2(n,droplist)\r\n",
        "```\r\n",
        "\r\n",
        "takes my droplist and sorts it for powers of $2$ up to $2^n$. It catalogues the values in a dictionary by their modulo, as a list of lists. \r\n",
        "\r\n",
        "For example ```droplistmod[4]``` is a list of length $4$, where the index of the list corresponds to a modulo of $4$, and each value in the inner list is a dropping time.\r\n"
      ]
    },
    {
      "cell_type": "code",
      "metadata": {
        "id": "QN6y3twRlzxg"
      },
      "source": [
        "droplistmod=sortdroplistmodpow2(20,droplist)"
      ],
      "execution_count": null,
      "outputs": []
    },
    {
      "cell_type": "code",
      "metadata": {
        "id": "IDwt2WXol9-a"
      },
      "source": [
        "droplistmod[4][1][1:101]"
      ],
      "execution_count": null,
      "outputs": []
    },
    {
      "cell_type": "markdown",
      "metadata": {
        "id": "XE40mOjzmGZF"
      },
      "source": [
        "[3,\r\n",
        " 3,\r\n",
        " 3,\r\n",
        " 3,\r\n",
        " 3,\r\n",
        " 3,\r\n",
        " 3,\r\n",
        " 3,\r\n",
        " 3,\r\n",
        " 3,\r\n",
        " 3,\r\n",
        " 3,\r\n",
        " 3,\r\n",
        " 3,\r\n",
        " 3,\r\n",
        " 3,\r\n",
        " 3,\r\n",
        " 3,\r\n",
        " 3,\r\n",
        " 3,\r\n",
        " 3,\r\n",
        " 3,\r\n",
        " 3,\r\n",
        " 3,\r\n",
        " 3,\r\n",
        " 3,\r\n",
        " 3,\r\n",
        " 3,\r\n",
        " 3,\r\n",
        " 3,\r\n",
        " 3,\r\n",
        " 3,\r\n",
        " 3,\r\n",
        " 3,\r\n",
        " 3,\r\n",
        " 3,\r\n",
        " 3,\r\n",
        " 3,\r\n",
        " 3,\r\n",
        " 3,\r\n",
        " 3,\r\n",
        " 3,\r\n",
        " 3,\r\n",
        " 3,\r\n",
        " 3,\r\n",
        " 3,\r\n",
        " 3,\r\n",
        " 3,\r\n",
        " 3,\r\n",
        " 3,\r\n",
        " 3,\r\n",
        " 3,\r\n",
        " 3,\r\n",
        " 3,\r\n",
        " 3,\r\n",
        " 3,\r\n",
        " 3,\r\n",
        " 3,\r\n",
        " 3,\r\n",
        " 3,\r\n",
        " 3,\r\n",
        " 3,\r\n",
        " 3,\r\n",
        " 3,\r\n",
        " 3,\r\n",
        " 3,\r\n",
        " 3,\r\n",
        " 3,\r\n",
        " 3,\r\n",
        " 3,\r\n",
        " 3,\r\n",
        " 3,\r\n",
        " 3,\r\n",
        " 3,\r\n",
        " 3,\r\n",
        " 3,\r\n",
        " 3,\r\n",
        " 3,\r\n",
        " 3,\r\n",
        " 3,\r\n",
        " 3,\r\n",
        " 3,\r\n",
        " 3,\r\n",
        " 3,\r\n",
        " 3,\r\n",
        " 3,\r\n",
        " 3,\r\n",
        " 3,\r\n",
        " 3,\r\n",
        " 3,\r\n",
        " 3,\r\n",
        " 3,\r\n",
        " 3,\r\n",
        " 3,\r\n",
        " 3,\r\n",
        " 3,\r\n",
        " 3,\r\n",
        " 3,\r\n",
        " 3,\r\n",
        " 3]"
      ]
    },
    {
      "cell_type": "markdown",
      "metadata": {
        "id": "nhNEBlNnmIIp"
      },
      "source": [
        "While $100$ $3$'s doesn't prove anything, it reinforces my hypothesis. There seems to be a pattern arrising from modulo of powers of 2."
      ]
    },
    {
      "cell_type": "markdown",
      "metadata": {
        "id": "WHhkXAUsma7S"
      },
      "source": [
        "Since $(0\\mod4)+(2\\mod4)=0\\mod2$, by this hypothesis, we have effectively calculated the dropping time for $75\\%$ of all numbers.\r\n",
        "\r\n",
        "But we can take it further."
      ]
    },
    {
      "cell_type": "code",
      "metadata": {
        "id": "tXRt9cBlmX10"
      },
      "source": [
        "droplistmod[4][3][1:101]"
      ],
      "execution_count": null,
      "outputs": []
    },
    {
      "cell_type": "markdown",
      "metadata": {
        "id": "SDZ2gGFnmSxB"
      },
      "source": [
        "[11,\r\n",
        " 8,\r\n",
        " 11,\r\n",
        " 6,\r\n",
        " 8,\r\n",
        " 96,\r\n",
        " 91,\r\n",
        " 6,\r\n",
        " 13,\r\n",
        " 8,\r\n",
        " 88,\r\n",
        " 6,\r\n",
        " 8,\r\n",
        " 11,\r\n",
        " 88,\r\n",
        " 6,\r\n",
        " 83,\r\n",
        " 8,\r\n",
        " 13,\r\n",
        " 6,\r\n",
        " 8,\r\n",
        " 73,\r\n",
        " 13,\r\n",
        " 6,\r\n",
        " 68,\r\n",
        " 8,\r\n",
        " 50,\r\n",
        " 6,\r\n",
        " 8,\r\n",
        " 13,\r\n",
        " 24,\r\n",
        " 6,\r\n",
        " 11,\r\n",
        " 8,\r\n",
        " 11,\r\n",
        " 6,\r\n",
        " 8,\r\n",
        " 65,\r\n",
        " 34,\r\n",
        " 6,\r\n",
        " 47,\r\n",
        " 8,\r\n",
        " 13,\r\n",
        " 6,\r\n",
        " 8,\r\n",
        " 11,\r\n",
        " 21,\r\n",
        " 6,\r\n",
        " 13,\r\n",
        " 8,\r\n",
        " 21,\r\n",
        " 6,\r\n",
        " 8,\r\n",
        " 13,\r\n",
        " 50,\r\n",
        " 6,\r\n",
        " 19,\r\n",
        " 8,\r\n",
        " 32,\r\n",
        " 6,\r\n",
        " 8,\r\n",
        " 44,\r\n",
        " 21,\r\n",
        " 6,\r\n",
        " 11,\r\n",
        " 8,\r\n",
        " 11,\r\n",
        " 6,\r\n",
        " 8,\r\n",
        " 39,\r\n",
        " 16,\r\n",
        " 6,\r\n",
        " 13,\r\n",
        " 8,\r\n",
        " 21,\r\n",
        " 6,\r\n",
        " 8,\r\n",
        " 11,\r\n",
        " 34,\r\n",
        " 6,\r\n",
        " 34,\r\n",
        " 8,\r\n",
        " 13,\r\n",
        " 6,\r\n",
        " 8,\r\n",
        " 16,\r\n",
        " 13,\r\n",
        " 6,\r\n",
        " 26,\r\n",
        " 8,\r\n",
        " 16,\r\n",
        " 6,\r\n",
        " 8,\r\n",
        " 13,\r\n",
        " 19,\r\n",
        " 6,\r\n",
        " 11,\r\n",
        " 8,\r\n",
        " 11,\r\n",
        " 6]"
      ]
    },
    {
      "cell_type": "markdown",
      "metadata": {
        "id": "C7wpTfHGnGi6"
      },
      "source": [
        "I wrote a code to further investigate this pattern by listing off all consistancies in modulo powers of $2$.\r\n",
        "\r\n",
        "```\r\n",
        "droppingmodpow2(n,droplistmod)\r\n",
        "```\r\n",
        "\r\n",
        "takes my droplistmod dictionary from ```sortdroplistmodpow2(n,droplist)``` and creates a pattern dictionary for all consistancies under modulo power of $2$ up to $2^n$.\r\n",
        "\r\n",
        "In order to do this it references the stored lists in the droplistmod dictionary and checks if they are consistant throughout. It then updates a pattern dictionary to track any already observed patterns. In later powers of 2, it ignores patterns that were already observed.\r\n",
        "\r\n",
        "The values are stored as a tuple ```(droptime,value)``` where droptime is the droptime and value is the value modulo 2 that it drops in.\r\n",
        "\r\n",
        "All conclusions are drawn from lists of length $8$ or longer. I do assume \r\n",
        "Initially I included a print statement, but I removed it for the larger patterndict."
      ]
    },
    {
      "cell_type": "code",
      "metadata": {
        "colab": {
          "base_uri": "https://localhost:8080/"
        },
        "id": "j1-8AZFKpW6Y",
        "outputId": "b605999f-b99c-4727-dfc5-1069c94f8a7c"
      },
      "source": [
        "patterndict=droppingmodpow2(10,droplistmod)"
      ],
      "execution_count": null,
      "outputs": [
        {
          "output_type": "stream",
          "text": [
            "0 mod 2 always drops in 1\n",
            "1 mod 4 always drops in 3\n",
            "3 mod 16 always drops in 6\n",
            "11 mod 32 always drops in 8\n",
            "23 mod 32 always drops in 8\n",
            "7 mod 128 always drops in 11\n",
            "15 mod 128 always drops in 11\n",
            "59 mod 128 always drops in 11\n",
            "39 mod 256 always drops in 13\n",
            "79 mod 256 always drops in 13\n",
            "95 mod 256 always drops in 13\n",
            "123 mod 256 always drops in 13\n",
            "175 mod 256 always drops in 13\n",
            "199 mod 256 always drops in 13\n",
            "219 mod 256 always drops in 13\n"
          ],
          "name": "stdout"
        }
      ]
    },
    {
      "cell_type": "markdown",
      "metadata": {
        "id": "WuM1Hw4irSi1"
      },
      "source": [
        "An even more interesting pattern seems to arrise looking at the early print statments, while not every power of $2$ has a value attatched to it, all values for the same modulo have the same dropping time."
      ]
    },
    {
      "cell_type": "markdown",
      "metadata": {
        "id": "Ah7Z5gGlsnKP"
      },
      "source": [
        "Given the initial tendency towards a pattern, I modified my code to store the values under a set dropping time. These print statments, are calculated without that assumption, so while not shown, I manually checked through the higher values before I assumed this."
      ]
    },
    {
      "cell_type": "code",
      "metadata": {
        "id": "XmDOvmSUrM_z"
      },
      "source": [
        "patterndict=droppingmodpow2(20,droplistmod)"
      ],
      "execution_count": null,
      "outputs": []
    },
    {
      "cell_type": "code",
      "metadata": {
        "colab": {
          "base_uri": "https://localhost:8080/"
        },
        "id": "CgDvjaRauGqW",
        "outputId": "397c72e2-20f5-41e0-d15c-f55a5348d6a6"
      },
      "source": [
        "for pow2 in range(1,11):\r\n",
        "  print('There are {} values mod 2^{}, they drop in {}'.format(len(patterndict[2**pow2][1]),pow2,patterndict[2**pow2][0]))"
      ],
      "execution_count": null,
      "outputs": [
        {
          "output_type": "stream",
          "text": [
            "There are 1 values mod 2^1, they drop in 1\n",
            "There are 1 values mod 2^2, they drop in 3\n",
            "There are 0 values mod 2^3, they drop in None\n",
            "There are 1 values mod 2^4, they drop in 6\n",
            "There are 2 values mod 2^5, they drop in 8\n",
            "There are 0 values mod 2^6, they drop in None\n",
            "There are 3 values mod 2^7, they drop in 11\n",
            "There are 7 values mod 2^8, they drop in 13\n",
            "There are 0 values mod 2^9, they drop in None\n",
            "There are 12 values mod 2^10, they drop in 16\n"
          ],
          "name": "stdout"
        }
      ]
    },
    {
      "cell_type": "markdown",
      "metadata": {
        "id": "Umd8j-UsyATZ"
      },
      "source": [
        "While every $3$ powers of $2$ seem to not have any values, the number of values is increasing steadily."
      ]
    },
    {
      "cell_type": "code",
      "metadata": {
        "colab": {
          "base_uri": "https://localhost:8080/"
        },
        "id": "ZHC9vAkqyQvL",
        "outputId": "eed8f70d-09a2-462f-eb71-a2a313bfb7b5"
      },
      "source": [
        "for pow2 in range(11,21):\r\n",
        "  print('There are {} values mod 2^{}, they drop in {}'.format(len(patterndict[2**pow2][1]),pow2,patterndict[2**pow2][0]))"
      ],
      "execution_count": null,
      "outputs": [
        {
          "output_type": "stream",
          "text": [
            "There are 0 values mod 2^11, they drop in None\n",
            "There are 30 values mod 2^12, they drop in 19\n",
            "There are 85 values mod 2^13, they drop in 21\n",
            "There are 0 values mod 2^14, they drop in None\n",
            "There are 173 values mod 2^15, they drop in 24\n",
            "There are 476 values mod 2^16, they drop in 26\n",
            "There are 0 values mod 2^17, they drop in None\n",
            "There are 961 values mod 2^18, they drop in 29\n",
            "There are 0 values mod 2^19, they drop in None\n",
            "There are 2652 values mod 2^20, they drop in 32\n"
          ],
          "name": "stdout"
        }
      ]
    },
    {
      "cell_type": "markdown",
      "metadata": {
        "id": "PLEM-BsEygVT"
      },
      "source": [
        "The every 3 pattern falls off immediatly outside of my initail range, but the values continue to increase."
      ]
    },
    {
      "cell_type": "markdown",
      "metadata": {
        "id": "uG_hG9E61aQf"
      },
      "source": [
        "To close things off, I wrote a quick code to caclulate the percentage of numbers that we have a set dropping value for:"
      ]
    },
    {
      "cell_type": "code",
      "metadata": {
        "colab": {
          "base_uri": "https://localhost:8080/"
        },
        "id": "6bMEPVOHyxFc",
        "outputId": "7494f8b9-8fee-4cf7-c88e-97ead2d4458e"
      },
      "source": [
        "num,den=0,1\r\n",
        "for pow2 in range(1,21):\r\n",
        "  num *= 2\r\n",
        "  den *= 2\r\n",
        "  num += len(patterndict[2**pow2][1])\r\n",
        "  print('Accounting for cancelation modulo {}, we can account for {}% of all numbers'.format(2**pow2,num/den))"
      ],
      "execution_count": null,
      "outputs": [
        {
          "output_type": "stream",
          "text": [
            "Accounting for cancelation modulo 2, we can account for 0.5% of all numbers\n",
            "Accounting for cancelation modulo 4, we can account for 0.75% of all numbers\n",
            "Accounting for cancelation modulo 8, we can account for 0.75% of all numbers\n",
            "Accounting for cancelation modulo 16, we can account for 0.8125% of all numbers\n",
            "Accounting for cancelation modulo 32, we can account for 0.875% of all numbers\n",
            "Accounting for cancelation modulo 64, we can account for 0.875% of all numbers\n",
            "Accounting for cancelation modulo 128, we can account for 0.8984375% of all numbers\n",
            "Accounting for cancelation modulo 256, we can account for 0.92578125% of all numbers\n",
            "Accounting for cancelation modulo 512, we can account for 0.92578125% of all numbers\n",
            "Accounting for cancelation modulo 1024, we can account for 0.9375% of all numbers\n",
            "Accounting for cancelation modulo 2048, we can account for 0.9375% of all numbers\n",
            "Accounting for cancelation modulo 4096, we can account for 0.94482421875% of all numbers\n",
            "Accounting for cancelation modulo 8192, we can account for 0.9552001953125% of all numbers\n",
            "Accounting for cancelation modulo 16384, we can account for 0.9552001953125% of all numbers\n",
            "Accounting for cancelation modulo 32768, we can account for 0.960479736328125% of all numbers\n",
            "Accounting for cancelation modulo 65536, we can account for 0.967742919921875% of all numbers\n",
            "Accounting for cancelation modulo 131072, we can account for 0.967742919921875% of all numbers\n",
            "Accounting for cancelation modulo 262144, we can account for 0.9714088439941406% of all numbers\n",
            "Accounting for cancelation modulo 524288, we can account for 0.9714088439941406% of all numbers\n",
            "Accounting for cancelation modulo 1048576, we can account for 0.97393798828125% of all numbers\n"
          ],
          "name": "stdout"
        }
      ]
    },
    {
      "cell_type": "markdown",
      "metadata": {
        "id": "0N0WOtDy1sxK"
      },
      "source": [
        "While there is seemingly no pattern in the dropping number or in the "
      ]
    },
    {
      "cell_type": "markdown",
      "metadata": {
        "id": "gV79ldMukfuD"
      },
      "source": [
        "####Code"
      ]
    },
    {
      "cell_type": "code",
      "metadata": {
        "id": "ZD5XCEzmkh56"
      },
      "source": [
        "def sortdroplistmodpow2(n,droplist = None):\r\n",
        "  '''\r\n",
        "  int, list -> dict{int:list}\r\n",
        "  Creates a dictionary storing powers of 2 up to 2^n as a keys.\r\n",
        "  Values are assigned as a list of lists or dropping values, sorted by their modulo for that power of 2.\r\n",
        "  The max allowed power of 2 is 20.\r\n",
        "  '''\r\n",
        "  if n > 20:\r\n",
        "    raise ValueError('Please input a value less than 21.')\r\n",
        "  if not droplist:\r\n",
        "    droplist = createdroplist(2**(n+2))\r\n",
        "  droplistmod = {}\r\n",
        "  for x in range(1,n+1):\r\n",
        "    templist = [None]*(2**x)\r\n",
        "    for y in range(2**x):\r\n",
        "      templist[y] = droplist[y: :(2**x)]\r\n",
        "\r\n",
        "    droplistmod.update({2**x:templist})\r\n",
        "  return droplistmod"
      ],
      "execution_count": null,
      "outputs": []
    },
    {
      "cell_type": "code",
      "metadata": {
        "id": "zcb0XGW_kvEm"
      },
      "source": [
        "def checkmoddict(n,moddict):\r\n",
        "  '''\r\n",
        "  dict{int:list} -> bool\r\n",
        "  Checks if n is a stored modulo value in the dictionary. \r\n",
        "  '''\r\n",
        "  for mod in moddict:\r\n",
        "    for value in moddict[mod][1]:\r\n",
        "      if n%mod == value:\r\n",
        "        return False\r\n",
        "  return True"
      ],
      "execution_count": null,
      "outputs": []
    },
    {
      "cell_type": "code",
      "metadata": {
        "id": "SBybrp6rktZw"
      },
      "source": [
        "def droppingmodpow2(n,droplistmod = None):\r\n",
        "  '''\r\n",
        "  int, dict -> print statements -> dict{int:(int,list)}\r\n",
        "  Using print commands, lists all dropping values that stablize modulo powers of 2.\r\n",
        "  Exculdes 0 and 1 as outliers.\r\n",
        "  Returns a dictionary with powers of 2 as the keys,\r\n",
        "  and their assigned value a touple (dropping time, values mod (key) that drop in dropping time).\r\n",
        "  This assumes that all values added at (pow2) have the same droptime.\r\n",
        "  '''\r\n",
        "  if not droplistmod:\r\n",
        "    droplistmod = sortdroplistmodpow2(n)\r\n",
        "  patterndict = {2:(1,[0]),4:(3,[1])}\r\n",
        "  #print('{} mod {} always drops in {}'.format(0,2,1))\r\n",
        "  #print('{} mod {} always drops in {}'.format(1,4,3))\r\n",
        "  for pow2 in range(1,n+1):\r\n",
        "    for value in range(2**pow2):\r\n",
        "      droptime = droplistmod[2**pow2][value][1]\r\n",
        "      checklist = [True for k in droplistmod[2**pow2][value] if k == droptime]\r\n",
        "      if len(checklist) == len(droplistmod[2**pow2][value]) and checkmoddict(value,patterndict):\r\n",
        "        #print('{} mod {} always drops in {}'.format(value,2**pow2,droptime))\r\n",
        "        if 2**pow2 not in patterndict:\r\n",
        "          patterndict.update({2**pow2:(droptime,[value])})\r\n",
        "        else:\r\n",
        "          patterndict[2**pow2][1].append(value)\r\n",
        "  for pow2 in range(1,n+1):\r\n",
        "    if 2**pow2 not in patterndict:\r\n",
        "      patterndict.update({2**pow2:(None,[])})\r\n",
        "  return patterndict"
      ],
      "execution_count": null,
      "outputs": []
    },
    {
      "cell_type": "markdown",
      "metadata": {
        "id": "l1w1VamW8CuG"
      },
      "source": [
        "##Changing the Rules of the Conjecture"
      ]
    },
    {
      "cell_type": "markdown",
      "metadata": {
        "id": "Z6oe4Iqa8Jq2"
      },
      "source": [
        "The collatz Conjecture is interesting to study because of how nicely the results seem to come out. The conjecture itself is the statement that all positive integers will eventually fall to 1. But if the rules of the sequence are changed, will the results be as nice?\r\n",
        "\r\n",
        "I believe the obvious answer is no."
      ]
    },
    {
      "cell_type": "markdown",
      "metadata": {
        "id": "io_d20FB7-5C"
      },
      "source": [
        "###Discussion"
      ]
    },
    {
      "cell_type": "markdown",
      "metadata": {
        "id": "SaQloccjbW2P"
      },
      "source": [
        "I looked at two new rulesets, $5x+3$, divide$\\mod 2$, and $5x+2$, divide$\\mod 3$.\r\n",
        "\r\n",
        "While the results didn't seem to arrise any pattern, and many numbers simply exploded off to infinity, the fact that it forms distinct branches may be of some interst.\r\n",
        "\r\n",
        "For example, with the general rule of the conjecture, $3x + 1$, divide$\\mod 2$. We would consider every value to branch from one, which is to say, every value eventually leads down the tree to one. "
      ]
    },
    {
      "cell_type": "markdown",
      "metadata": {
        "id": "WxIaYPZ7dVtM"
      },
      "source": [
        "To explore these concepts, I created a customizable code customseq which takes n and runs an itteration of a custom sequence. \r\n",
        "\r\n",
        "```\r\n",
        "customseq(x,up,down)\r\n",
        "```\r\n",
        "\r\n",
        "The default sequence values being the general rules of the conjecture."
      ]
    },
    {
      "cell_type": "markdown",
      "metadata": {
        "id": "IKSByOf_eBRE"
      },
      "source": [
        "$3(1)+1=4$"
      ]
    },
    {
      "cell_type": "code",
      "metadata": {
        "colab": {
          "base_uri": "https://localhost:8080/"
        },
        "id": "vp3d0Q0tdu7t",
        "outputId": "075bf7f3-b1c6-4d8d-f574-80803ec1ba41"
      },
      "source": [
        "customseq(x=1)"
      ],
      "execution_count": null,
      "outputs": [
        {
          "output_type": "execute_result",
          "data": {
            "text/plain": [
              "4"
            ]
          },
          "metadata": {
            "tags": []
          },
          "execution_count": 20
        }
      ]
    },
    {
      "cell_type": "markdown",
      "metadata": {
        "id": "8FfUsUivd5Zg"
      },
      "source": [
        "$5(5)+3 = 28$"
      ]
    },
    {
      "cell_type": "code",
      "metadata": {
        "colab": {
          "base_uri": "https://localhost:8080/"
        },
        "id": "wk-JhptUdoIA",
        "outputId": "5c58cd58-4880-43bb-97f2-664eed4d70c4"
      },
      "source": [
        "customseq(x=5,up=(5,3))"
      ],
      "execution_count": null,
      "outputs": [
        {
          "output_type": "execute_result",
          "data": {
            "text/plain": [
              "28"
            ]
          },
          "metadata": {
            "tags": []
          },
          "execution_count": 10
        }
      ]
    },
    {
      "cell_type": "markdown",
      "metadata": {
        "id": "AzRoVm6beLrf"
      },
      "source": [
        "$5(8)+2=42$"
      ]
    },
    {
      "cell_type": "code",
      "metadata": {
        "colab": {
          "base_uri": "https://localhost:8080/"
        },
        "id": "Yjy5UR6jeXy6",
        "outputId": "f9b51cbe-d9f7-4a97-b9f7-628f78de0b68"
      },
      "source": [
        "customseq(x=8,up=(5,2),down=3)"
      ],
      "execution_count": null,
      "outputs": [
        {
          "output_type": "execute_result",
          "data": {
            "text/plain": [
              "42"
            ]
          },
          "metadata": {
            "tags": []
          },
          "execution_count": 11
        }
      ]
    },
    {
      "cell_type": "markdown",
      "metadata": {
        "id": "G_dxb7nFefF5"
      },
      "source": [
        "$42\\mod3=0$, so $42\\div3=14$"
      ]
    },
    {
      "cell_type": "code",
      "metadata": {
        "colab": {
          "base_uri": "https://localhost:8080/"
        },
        "id": "Zs9djAF3eZ-h",
        "outputId": "ec91968e-a50c-43fe-95ad-8c81ba3e26fe"
      },
      "source": [
        "customseq(x=42,up=(5,2),down=3)"
      ],
      "execution_count": null,
      "outputs": [
        {
          "output_type": "execute_result",
          "data": {
            "text/plain": [
              "14"
            ]
          },
          "metadata": {
            "tags": []
          },
          "execution_count": 12
        }
      ]
    },
    {
      "cell_type": "markdown",
      "metadata": {
        "id": "tU8_FrJNe4qh"
      },
      "source": [
        "I could run single itterations all day and never reach any conclusions about branches or patterns, so I made a code to produce the sequence for me until it \"explodes\" or \"stablizes\".\r\n",
        "\r\n",
        "```\r\n",
        "customseqlist(start,up,down,maxlength,maxvalue)\r\n",
        "```\r\n",
        "\r\n"
      ]
    },
    {
      "cell_type": "code",
      "metadata": {
        "colab": {
          "base_uri": "https://localhost:8080/"
        },
        "id": "go3Px6TIf8Bn",
        "outputId": "84ee334f-1b9d-4f60-b1f1-b030ca66b30a"
      },
      "source": [
        "customseqlist(start=1)"
      ],
      "execution_count": null,
      "outputs": [
        {
          "output_type": "execute_result",
          "data": {
            "text/plain": [
              "(True, [1, 4, 2])"
            ]
          },
          "metadata": {
            "tags": []
          },
          "execution_count": 14
        }
      ]
    },
    {
      "cell_type": "markdown",
      "metadata": {
        "id": "q0axDsJGgDZ3"
      },
      "source": [
        "That much is fairly obvious from our previous observations in this notebook, so I'll explore a bit more."
      ]
    },
    {
      "cell_type": "code",
      "metadata": {
        "colab": {
          "base_uri": "https://localhost:8080/"
        },
        "id": "CieqdRR_gCP8",
        "outputId": "ba9293a0-d90e-40dc-9c28-006f9c79dc2b"
      },
      "source": [
        "customseqlist(start=5,up=(5,3),down=2,maxlength=10)"
      ],
      "execution_count": null,
      "outputs": [
        {
          "output_type": "execute_result",
          "data": {
            "text/plain": [
              "(None, [5, 28, 14, 7, 38, 19, 98, 49, 248, 124])"
            ]
          },
          "metadata": {
            "tags": []
          },
          "execution_count": 19
        }
      ]
    },
    {
      "cell_type": "markdown",
      "metadata": {
        "id": "CgQPeUQQgxgd"
      },
      "source": [
        "From a glance, the sequence seems to be increasing, so let's let it run a bit longer.\r\n"
      ]
    },
    {
      "cell_type": "code",
      "metadata": {
        "id": "EHfP8FEbhRrl"
      },
      "source": [
        "customseqlist(start=124,up=(5,3),down=2,maxlength=True,maxvalue=10000)"
      ],
      "execution_count": null,
      "outputs": []
    },
    {
      "cell_type": "markdown",
      "metadata": {
        "id": "pf5YORGMhgBz"
      },
      "source": [
        "(False,\r\n",
        " [124,\r\n",
        "  62,\r\n",
        "  31,\r\n",
        "  158,\r\n",
        "  79,\r\n",
        "  398,\r\n",
        "  199,\r\n",
        "  998,\r\n",
        "  499,\r\n",
        "  2498,\r\n",
        "  1249,\r\n",
        "  6248,\r\n",
        "  3124,\r\n",
        "  1562,\r\n",
        "  781,\r\n",
        "  3908,\r\n",
        "  1954,\r\n",
        "  977,\r\n",
        "  4888,\r\n",
        "  2444,\r\n",
        "  1222,\r\n",
        "  611,\r\n",
        "  3058,\r\n",
        "  1529,\r\n",
        "  7648,\r\n",
        "  3824,\r\n",
        "  1912,\r\n",
        "  956,\r\n",
        "  478,\r\n",
        "  239,\r\n",
        "  1198,\r\n",
        "  599,\r\n",
        "  2998,\r\n",
        "  1499,\r\n",
        "  7498,\r\n",
        "  3749,\r\n",
        "  18748,\r\n",
        "  9374,\r\n",
        "  4687,\r\n",
        "  23438,\r\n",
        "  11719,\r\n",
        "  58598,\r\n",
        "  29299,\r\n",
        "  146498,\r\n",
        "  73249,\r\n",
        "  366248,\r\n",
        "  183124,\r\n",
        "  91562,\r\n",
        "  45781,\r\n",
        "  228908,\r\n",
        "  114454,\r\n",
        "  57227,\r\n",
        "  286138,\r\n",
        "  143069,\r\n",
        "  715348,\r\n",
        "  357674,\r\n",
        "  178837,\r\n",
        "  894188,\r\n",
        "  447094,\r\n",
        "  223547,\r\n",
        "  1117738,\r\n",
        "  558869,\r\n",
        "  2794348,\r\n",
        "  1397174,\r\n",
        "  698587,\r\n",
        "  3492938,\r\n",
        "  1746469,\r\n",
        "  8732348,\r\n",
        "  4366174,\r\n",
        "  2183087,\r\n",
        "  10915438,\r\n",
        "  5457719,\r\n",
        "  27288598,\r\n",
        "  13644299,\r\n",
        "  68221498,\r\n",
        "  34110749])"
      ]
    },
    {
      "cell_type": "markdown",
      "metadata": {
        "id": "dT8R9qAxhiXf"
      },
      "source": [
        "Since the output box got a bit long, I put it in a text box. That, however, doesn't change the fact that the seqeunce seems to be unbounded, so we'll consider these values as \"exploded\"."
      ]
    },
    {
      "cell_type": "code",
      "metadata": {
        "colab": {
          "base_uri": "https://localhost:8080/"
        },
        "id": "R8Dg3EP0iP15",
        "outputId": "79024a38-9a4d-485d-ab9a-07250836a28a"
      },
      "source": [
        "customseqlist(start=8,up=(5,2),down=3)"
      ],
      "execution_count": null,
      "outputs": [
        {
          "output_type": "execute_result",
          "data": {
            "text/plain": [
              "(True, [8, 42, 14, 72, 24])"
            ]
          },
          "metadata": {
            "tags": []
          },
          "execution_count": 23
        }
      ]
    },
    {
      "cell_type": "markdown",
      "metadata": {
        "id": "5bZ8S6jeiWLG"
      },
      "source": [
        "Interestingly enough, $8$ stablizes for the other ruleset. So we'll consider $8$ as \"stablized\", since it is the lowest value in the loop."
      ]
    },
    {
      "cell_type": "markdown",
      "metadata": {
        "id": "1ZZo7pJGikBC"
      },
      "source": [
        "Thus far we have discovered that changing the rules of the conjecture leads to some interesting results. \r\n",
        "\r\n",
        "Loops still form, but now we have values that seemingly explode to infinity. Once again, I could continue to explore these ideas at this pace, or I can write more code to do it for us. I chose the latter.\r\n",
        "\r\n",
        "```\r\n",
        "customcheck(maxvalue,up,down)\r\n",
        "```\r\n",
        "customcheck runs for all numbers up to a max value for our custom ruleset, and returns our stablized and exploded values as two lists. It evaluates in a similar manner to my conjecture_check code, using a checklist, but now stores a bit more data while it runs.\r\n"
      ]
    },
    {
      "cell_type": "markdown",
      "metadata": {
        "id": "64LiXHhOjNsO"
      },
      "source": [
        "Once again, for our baseline:"
      ]
    },
    {
      "cell_type": "code",
      "metadata": {
        "colab": {
          "base_uri": "https://localhost:8080/"
        },
        "id": "RQTYxHGC-X5B",
        "outputId": "661e80eb-767d-4788-9021-37c072679f31"
      },
      "source": [
        "customcheck(value=10000)"
      ],
      "execution_count": null,
      "outputs": [
        {
          "output_type": "execute_result",
          "data": {
            "text/plain": [
              "([1], [])"
            ]
          },
          "metadata": {
            "tags": []
          },
          "execution_count": 111
        }
      ]
    },
    {
      "cell_type": "markdown",
      "metadata": {
        "id": "793Rll-yjQkP"
      },
      "source": [
        "This tells us $1$ is the lowest number in any loop formed, and there are no values that \"exploded.\" But we knew that; I wrote a far more efficient code to tell us that earlier. So let's explore a little. "
      ]
    },
    {
      "cell_type": "code",
      "metadata": {
        "colab": {
          "base_uri": "https://localhost:8080/"
        },
        "id": "TOAQf6ImIicG",
        "outputId": "f27d78ba-9728-4d3e-9c32-eee7faf7e43e"
      },
      "source": [
        "customcheck(maxvalue=10000,up=(5,3))[0]"
      ],
      "execution_count": null,
      "outputs": [
        {
          "output_type": "execute_result",
          "data": {
            "text/plain": [
              "[1, 3, 39, 43, 51, 53, 61]"
            ]
          },
          "metadata": {
            "tags": []
          },
          "execution_count": 113
        }
      ]
    },
    {
      "cell_type": "markdown",
      "metadata": {
        "id": "jmnGQiJTj1FD"
      },
      "source": [
        "It appears that there are stablized values for our $5x+3$ ruleset. And, interestingly enough, seven of them."
      ]
    },
    {
      "cell_type": "code",
      "metadata": {
        "colab": {
          "base_uri": "https://localhost:8080/"
        },
        "id": "9ZQbhb1zmLB5",
        "outputId": "de863ab4-bb9a-410d-dbdf-40b995b7e29b"
      },
      "source": [
        "len(customcheck(maxvalue=10000,up=(5,3))[1])"
      ],
      "execution_count": null,
      "outputs": [
        {
          "output_type": "execute_result",
          "data": {
            "text/plain": [
              "9359"
            ]
          },
          "metadata": {
            "tags": []
          },
          "execution_count": 29
        }
      ]
    },
    {
      "cell_type": "markdown",
      "metadata": {
        "id": "_0WHVE1wmOkh"
      },
      "source": [
        "That said, it seems that $93\\%$  of values up to $10,000$ explode. Which is a rather large portion. "
      ]
    },
    {
      "cell_type": "markdown",
      "metadata": {
        "id": "ZrzvtK64mcry"
      },
      "source": [
        "Going back to our $5x+2,\\mod3$ ruleset."
      ]
    },
    {
      "cell_type": "code",
      "metadata": {
        "colab": {
          "base_uri": "https://localhost:8080/"
        },
        "id": "o1yjiu9fJJYy",
        "outputId": "0bd3e865-2dfe-4f40-f1d0-150245b49672"
      },
      "source": [
        "customcheck(maxvalue=10000,up=(5,2),down=3)[0]"
      ],
      "execution_count": null,
      "outputs": [
        {
          "output_type": "execute_result",
          "data": {
            "text/plain": [
              "[8]"
            ]
          },
          "metadata": {
            "tags": []
          },
          "execution_count": 114
        }
      ]
    },
    {
      "cell_type": "markdown",
      "metadata": {
        "id": "VRLtkUOfm7Po"
      },
      "source": [
        "It seems $8$ is our only stablized value."
      ]
    },
    {
      "cell_type": "code",
      "metadata": {
        "colab": {
          "base_uri": "https://localhost:8080/"
        },
        "id": "HndgNItdnBcK",
        "outputId": "dce7649c-f5de-47f1-d06c-5147b41fbdcc"
      },
      "source": [
        "len(customcheck(maxvalue=10000,up=(5,2),down=3)[1])"
      ],
      "execution_count": null,
      "outputs": [
        {
          "output_type": "execute_result",
          "data": {
            "text/plain": [
              "9981"
            ]
          },
          "metadata": {
            "tags": []
          },
          "execution_count": 31
        }
      ]
    },
    {
      "cell_type": "markdown",
      "metadata": {
        "id": "56yOhTMSnPMg"
      },
      "source": [
        "And this leads to even more exploded values. Only $19$ values less than $10,000$ stablize to 8."
      ]
    },
    {
      "cell_type": "markdown",
      "metadata": {
        "id": "OKF0IB_3nr3x"
      },
      "source": [
        "These observations make the consistancy of the ruleset $3x+1,\\mod2$ seem rather mystical, since changing the rules causes so many values to explode."
      ]
    },
    {
      "cell_type": "markdown",
      "metadata": {
        "id": "jkqq43M5tJQ5"
      },
      "source": [
        "For the sake of enumeration, I included a function:\r\n",
        "\r\n",
        "```\r\n",
        "getloops(maxvalue,up,down,stablized_values)\r\n",
        "```\r\n",
        "which runs customcheck, then customseqlist to list the loops formed under the given ruleset.\r\n"
      ]
    },
    {
      "cell_type": "code",
      "metadata": {
        "colab": {
          "base_uri": "https://localhost:8080/"
        },
        "id": "dfKJmCCy9jIj",
        "outputId": "85dae45f-5d76-483f-d9f8-56294390eeab"
      },
      "source": [
        "getloops(maxvalue=10000)"
      ],
      "execution_count": null,
      "outputs": [
        {
          "output_type": "execute_result",
          "data": {
            "text/plain": [
              "{1: [1, 4, 2]}"
            ]
          },
          "metadata": {
            "tags": []
          },
          "execution_count": 53
        }
      ]
    },
    {
      "cell_type": "code",
      "metadata": {
        "colab": {
          "base_uri": "https://localhost:8080/"
        },
        "id": "VQ7gvfbqJ8H0",
        "outputId": "3d149483-d075-4903-807a-b3fdaf462bc1"
      },
      "source": [
        "getloops(maxvalue=10000,up=(5,3))"
      ],
      "execution_count": null,
      "outputs": [
        {
          "output_type": "execute_result",
          "data": {
            "text/plain": [
              "{1: [1, 8, 4, 2],\n",
              " 3: [3, 18, 9, 48, 24, 12, 6],\n",
              " 39: [39, 198, 99, 498, 249, 1248, 624, 312, 156, 78],\n",
              " 43: [43, 218, 109, 548, 274, 137, 688, 344, 172, 86],\n",
              " 51: [51, 258, 129, 648, 324, 162, 81, 408, 204, 102],\n",
              " 53: [53, 268, 134, 67, 338, 169, 848, 424, 212, 106],\n",
              " 61: [61, 308, 154, 77, 388, 194, 97, 488, 244, 122]}"
            ]
          },
          "metadata": {
            "tags": []
          },
          "execution_count": 115
        }
      ]
    },
    {
      "cell_type": "code",
      "metadata": {
        "colab": {
          "base_uri": "https://localhost:8080/"
        },
        "id": "MuJBWEqPKOki",
        "outputId": "2dba9091-6b63-4494-9ea0-2a6b49cc17b1"
      },
      "source": [
        "getloops(maxvalue=10000,up=(5,2),down=3)"
      ],
      "execution_count": null,
      "outputs": [
        {
          "output_type": "execute_result",
          "data": {
            "text/plain": [
              "{8: [8, 42, 14, 72, 24]}"
            ]
          },
          "metadata": {
            "tags": []
          },
          "execution_count": 116
        }
      ]
    },
    {
      "cell_type": "markdown",
      "metadata": {
        "id": "8keDSaklt600"
      },
      "source": [
        "And finally, I wrote a code to sort all non-exploded numbers in our range by the value they stablize too:\r\n",
        "\r\n",
        "```\r\n",
        "getbranches(maxvalue,up,down,stablized_values,exploded_values)\r\n",
        "```\r\n",
        "\r\n"
      ]
    },
    {
      "cell_type": "code",
      "metadata": {
        "id": "QFwAXwOr7HFj"
      },
      "source": [
        "getbranches(maxvalue=1248,up=(5,3))[39]"
      ],
      "execution_count": null,
      "outputs": []
    },
    {
      "cell_type": "markdown",
      "metadata": {
        "id": "lo-UAHwRuqPq"
      },
      "source": [
        "[15,\r\n",
        " 30,\r\n",
        " 60,\r\n",
        " 78,\r\n",
        " 99,\r\n",
        " 120,\r\n",
        " 156,\r\n",
        " 198,\r\n",
        " 240,\r\n",
        " 249,\r\n",
        " 312,\r\n",
        " 396,\r\n",
        " 480,\r\n",
        " 498,\r\n",
        " 543,\r\n",
        " 555,\r\n",
        " 624,\r\n",
        " 633,\r\n",
        " 792,\r\n",
        " 960,\r\n",
        " 996,\r\n",
        " 1086,\r\n",
        " 1110,\r\n",
        " 1248]"
      ]
    },
    {
      "cell_type": "markdown",
      "metadata": {
        "id": "tdbQhB9-u9S_"
      },
      "source": [
        "Interestingly enough, $15$ and $30$ both stablize to $39$, which is a larger number. This exception was a lucky discovery, though I did have to spend a couple hours bug fixing to allow such exceptions. \r\n",
        "\r\n",
        "The assumption that all values stablize to a lower value was based off the original conjecture, but changing the rules allowed for more intersting patterns to arise.\r\n",
        "\r\n",
        "The obvious reason is that $78$ is $3\\mod5$ and $0\\mod2$, but that as nothing to do with $39$ being a stablized value. There may be a way to predict the creation of such occurances, but I digress."
      ]
    },
    {
      "cell_type": "code",
      "metadata": {
        "id": "L2GNnK7J7gu_"
      },
      "source": [
        "getbranches(maxvalue=10000,up=(5,2),down=3)"
      ],
      "execution_count": null,
      "outputs": []
    },
    {
      "cell_type": "markdown",
      "metadata": {
        "id": "5THlV-1W7wkO"
      },
      "source": [
        "{8: [14,\r\n",
        "  24,\r\n",
        "  42,\r\n",
        "  72,\r\n",
        "  126,\r\n",
        "  216,\r\n",
        "  378,\r\n",
        "  648,\r\n",
        "  680,\r\n",
        "  1134,\r\n",
        "  1166,\r\n",
        "  1944,\r\n",
        "  2040,\r\n",
        "  3402,\r\n",
        "  3498,\r\n",
        "  5832,\r\n",
        "  6120,\r\n",
        "  6296]}"
      ]
    },
    {
      "cell_type": "markdown",
      "metadata": {
        "id": "dOkoMmxFvvGs"
      },
      "source": [
        "The branch for our $5x+2,\\mod3$ rule is very short, as we discovered earlier. Though it is nice to see it spelled out rather than as a statistic.\r\n",
        "\r\n",
        "\r\n"
      ]
    },
    {
      "cell_type": "markdown",
      "metadata": {
        "id": "cvxPMh9pyvPV"
      },
      "source": [
        "Now, I want to quickly run through a few other rulesets that might be interesting."
      ]
    },
    {
      "cell_type": "markdown",
      "metadata": {
        "id": "74XPjMTVy697"
      },
      "source": [
        "To return to the negative numbers, in my own way: \r\n",
        "\r\n",
        "The ruleset $3x-1,\\mod2$ over positive values is the same as running $3x+1,\\mod2$ over negative values, in terms of absolue value. "
      ]
    },
    {
      "cell_type": "code",
      "metadata": {
        "colab": {
          "base_uri": "https://localhost:8080/"
        },
        "id": "Kz0gSPD292pX",
        "outputId": "7b46b59d-a143-4f5d-9796-998b2f565644"
      },
      "source": [
        "customcheck(10000,(3,-1),2)"
      ],
      "execution_count": null,
      "outputs": [
        {
          "output_type": "execute_result",
          "data": {
            "text/plain": [
              "([1, 5, 17], [])"
            ]
          },
          "metadata": {
            "tags": []
          },
          "execution_count": 124
        }
      ]
    },
    {
      "cell_type": "markdown",
      "metadata": {
        "id": "NA1Op1VR-lkk"
      },
      "source": [
        "Seems that all negative values above $-10,000$ stablize to $1$, $5$, or $17$."
      ]
    },
    {
      "cell_type": "code",
      "metadata": {
        "id": "WMxfD69-9o5l"
      },
      "source": [
        "getloops(maxvalue=10000,up=(3,-1),down=2)"
      ],
      "execution_count": null,
      "outputs": []
    },
    {
      "cell_type": "markdown",
      "metadata": {
        "id": "2EWf2kTY-72l"
      },
      "source": [
        "{1: [1, 2],\r\n",
        " 5: [5, 14, 7, 20, 10],\r\n",
        " 17: [17,\r\n",
        "  50,\r\n",
        "  25,\r\n",
        "  74,\r\n",
        "  37,\r\n",
        "  110,\r\n",
        "  55,\r\n",
        "  164,\r\n",
        "  82,\r\n",
        "  41,\r\n",
        "  122,\r\n",
        "  61,\r\n",
        "  182,\r\n",
        "  91,\r\n",
        "  272,\r\n",
        "  136,\r\n",
        "  68,\r\n",
        "  34]}"
      ]
    },
    {
      "cell_type": "markdown",
      "metadata": {
        "id": "LEqBDAbncdTs"
      },
      "source": [
        "What makes these loops interesting is the difference in length, with $17$ having a whopping $18$ in its loop. I also rather enjoy the fact that $5$'s loop has a length of $5$. "
      ]
    },
    {
      "cell_type": "markdown",
      "metadata": {
        "id": "NURjk5H6dAAx"
      },
      "source": [
        "Since all values stablize, I was curious what the distribution was for which value they stablize to."
      ]
    },
    {
      "cell_type": "code",
      "metadata": {
        "id": "0VfbE0yQ9xd8",
        "colab": {
          "base_uri": "https://localhost:8080/"
        },
        "outputId": "b4aeaa22-e541-453a-fa07-8f30b53d3c79"
      },
      "source": [
        "branches = getbranches(maxvalue=100,up=(3,-1),down=2)\r\n",
        "for x in branches:\r\n",
        "  print('{} values stablize to {}'.format(len(branches[x])+1,x))"
      ],
      "execution_count": null,
      "outputs": [
        {
          "output_type": "stream",
          "text": [
            "38 values stablize to 1\n",
            "31 values stablize to 5\n",
            "31 values stablize to 17\n"
          ],
          "name": "stdout"
        }
      ]
    },
    {
      "cell_type": "markdown",
      "metadata": {
        "id": "E-1OO_634kjM"
      },
      "source": [
        "There is interestingly an even distribution between the branches of $5$ and $17$. Let's expand the range."
      ]
    },
    {
      "cell_type": "code",
      "metadata": {
        "id": "EJK0ItOV59FO"
      },
      "source": [
        "output = customcheck(maxvalue=10000,up=(3,-1),down=2)"
      ],
      "execution_count": null,
      "outputs": []
    },
    {
      "cell_type": "code",
      "metadata": {
        "colab": {
          "base_uri": "https://localhost:8080/"
        },
        "id": "PKxyCj1D5Bi-",
        "outputId": "5643b4c5-305e-453a-8886-b3b1edf8abca"
      },
      "source": [
        "branches = getbranches(maxvalue=10000,up=(3,-1),down=2,output[0],output[1])\r\n",
        "for x in branches:\r\n",
        "  print('{} values stablize to {}'.format(len(branches[x])+1,x))"
      ],
      "execution_count": null,
      "outputs": [
        {
          "output_type": "stream",
          "text": [
            "3244 values stablize to 1\n",
            "3213 values stablize to 5\n",
            "3543 values stablize to 17\n"
          ],
          "name": "stdout"
        }
      ]
    },
    {
      "cell_type": "markdown",
      "metadata": {
        "id": "pI2USWyEGUEw"
      },
      "source": [
        "And now $17$ has the most values in its branch. Though all the branches are still fairly close in length."
      ]
    },
    {
      "cell_type": "code",
      "metadata": {
        "id": "sId_wu57GoQA"
      },
      "source": [
        "maxvalue=10000\r\n",
        "up = (3,1)\r\n",
        "down = 4\r\n",
        "output = customcheck(maxvalue,up,down)"
      ],
      "execution_count": null,
      "outputs": []
    },
    {
      "cell_type": "code",
      "metadata": {
        "colab": {
          "base_uri": "https://localhost:8080/"
        },
        "id": "EeX5aVUIG3VQ",
        "outputId": "854ebfd3-53f3-4dc7-ae02-d67b9bf3ad75"
      },
      "source": [
        "output[0]"
      ],
      "execution_count": null,
      "outputs": [
        {
          "output_type": "execute_result",
          "data": {
            "text/plain": [
              "[1]"
            ]
          },
          "metadata": {
            "tags": []
          },
          "execution_count": 158
        }
      ]
    },
    {
      "cell_type": "code",
      "metadata": {
        "colab": {
          "base_uri": "https://localhost:8080/"
        },
        "id": "fAeEBlKFHbUj",
        "outputId": "8d7148ff-104c-47d0-acd5-2247fbb469e6"
      },
      "source": [
        "getloops(maxvalue,up,down,output[0])"
      ],
      "execution_count": null,
      "outputs": [
        {
          "output_type": "execute_result",
          "data": {
            "text/plain": [
              "{1: [1, 4]}"
            ]
          },
          "metadata": {
            "tags": []
          },
          "execution_count": 164
        }
      ]
    },
    {
      "cell_type": "code",
      "metadata": {
        "colab": {
          "base_uri": "https://localhost:8080/"
        },
        "id": "2_VnEvBAHz-Q",
        "outputId": "2771ef62-7aad-4d50-f769-3553cee98199"
      },
      "source": [
        "getbranches(100,up,down,output[0],output[1])"
      ],
      "execution_count": null,
      "outputs": [
        {
          "output_type": "execute_result",
          "data": {
            "text/plain": [
              "{1: [4, 5, 16, 20, 21, 64, 80, 84, 85]}"
            ]
          },
          "metadata": {
            "tags": []
          },
          "execution_count": 165
        }
      ]
    },
    {
      "cell_type": "code",
      "metadata": {
        "colab": {
          "base_uri": "https://localhost:8080/"
        },
        "id": "U9OI08VhIBJm",
        "outputId": "5369e243-e354-425f-f969-5a5bcbfa870c"
      },
      "source": [
        "branches = getbranches(maxvalue,up,down,output[0],output[1])\r\n",
        "for x in branches:\r\n",
        "  print('{} values stablize to {}'.format(len(branches[x])+1,x))"
      ],
      "execution_count": null,
      "outputs": [
        {
          "output_type": "stream",
          "text": [
            "42 values stablize to 1\n"
          ],
          "name": "stdout"
        }
      ]
    },
    {
      "cell_type": "markdown",
      "metadata": {
        "id": "RD9dK4Y_JI4z"
      },
      "source": [
        "In retrospect, my getbranches function was written rather innefficiently, since the branch data was initially calculated in the customcheck function. The customcheck function was, to begin with, a very slowly functioning code, given the number of eventualities I needed to account for. Such eventuallities could have also been delegated to their own functions, to clean up as well.\r\n",
        "\r\n",
        "That said, need for further exploration stems from curiosity, and curiosity stems from exploration. When I set out on this exploration, I did not know that separate branches arose under different rule sets. It was that discovery that drove me to catalog them. \r\n",
        "\r\n",
        "The outcome of changing the rules of the conjecture was certainly interesting. I discovered a lot of fun tidbits and found myself just plugging in numbers to see what happened. If I included all the tidbits, I would double the size of this notebook, so I'll leave it off here."
      ]
    },
    {
      "cell_type": "markdown",
      "metadata": {
        "id": "8bgYbkzHIQ8l"
      },
      "source": [
        "###Code"
      ]
    },
    {
      "cell_type": "code",
      "metadata": {
        "id": "hT0xA1LmrUVB"
      },
      "source": [
        "def rulecheck(up,down):\r\n",
        "  '''\r\n",
        "  Raises a TypeError if the up or down rule is formated incorrectly.\r\n",
        "  '''\r\n",
        "  if type(up) != tuple or len(up) != 2 or type(up[0]) != type(up[1]) != int:\r\n",
        "    return TypeError('Please format \"up\" as a tuple (a,b) for the raise rule: ax+b')\r\n",
        "  if type(down) != int:\r\n",
        "    return TypeError('Please format \"down\" as an integer for the lower rule: x=x//m if x%m==0') "
      ],
      "execution_count": null,
      "outputs": []
    },
    {
      "cell_type": "code",
      "metadata": {
        "id": "vzwPNKWY8GaP"
      },
      "source": [
        "def customseq(x,up=(3,1),down=2):\r\n",
        "  '''\r\n",
        "  int,(int,int),int -> int\r\n",
        "  Single itteration of a custom sequence for the ruleset:\r\n",
        "  x = x//down if x%down == 0, else x = ax+b for up = (a,b)\r\n",
        "  '''\r\n",
        "  rulecheck(up,down)\r\n",
        "  if x % down == 0:\r\n",
        "    x = x//down\r\n",
        "  else:\r\n",
        "    x = up[0]*x+up[1]\r\n",
        "  return x"
      ],
      "execution_count": null,
      "outputs": []
    },
    {
      "cell_type": "code",
      "metadata": {
        "id": "gRw6RAvc8Zbw"
      },
      "source": [
        "def customseqlist(start,up=(3,1),down=2,maxlength = None,maxvalue=10000):\r\n",
        "  '''\r\n",
        "  int,(int,int),int,bool or int,int -> bool, list\r\n",
        "  Creates a list of the custom sequence for the ruleset:\r\n",
        "  x = x//down if x%down == 0, else x = ax+b for up = (a,b)\r\n",
        "  Returns True and the list if the value stablized.\r\n",
        "  Returns False and the list if the seqence length goes above maxvalue^2.\r\n",
        "  '''\r\n",
        "  rulecheck(up,down)\r\n",
        "\r\n",
        "  x = start\r\n",
        "  values = []\r\n",
        "  while x not in values:\r\n",
        "    if x > maxvalue**2:\r\n",
        "      return False, values\r\n",
        "    elif maxlength:\r\n",
        "      if len(values) == maxlength:\r\n",
        "        return None, values\r\n",
        "    values.append(x)\r\n",
        "    x = customseq(x,up,down)\r\n",
        "  return True, values"
      ],
      "execution_count": null,
      "outputs": []
    },
    {
      "cell_type": "code",
      "metadata": {
        "id": "Czz3Nl-H8etp"
      },
      "source": [
        "def customcheck(maxvalue,up=(3,1),down=2):\r\n",
        "  '''\r\n",
        "  int,(int,int),int -> list,list\r\n",
        "  Checks all values up to maxvalue for the ruleset:\r\n",
        "  x = x//down if x%down == 0, else x = ax+b for up = (a,b)\r\n",
        "  Considers a value as \"exploded\" if it goes above maxvalue^2. \r\n",
        "  Returns a list of values that stablize and a list of values that \"explode\".\r\n",
        "  '''\r\n",
        "  rulecheck(up,down)\r\n",
        "\r\n",
        "  if maxvalue > 10000:\r\n",
        "    raise ValueError('Please input a range under 10001.')\r\n",
        "\r\n",
        "  checklist = [None]*(maxvalue+1)             \r\n",
        "  stablized_values = [None]*(maxvalue+1)\r\n",
        "  exploded_values = [None]*(maxvalue+1)              \r\n",
        " \r\n",
        "  for start in range(1,maxvalue+1):           \r\n",
        "    x = start                           \r\n",
        "    running = True\r\n",
        "    while running:     \r\n",
        "      if x<=maxvalue: \r\n",
        "        if checklist[x]:  \r\n",
        "          if x > start: \r\n",
        "            stablized_values[min(customseqlist(x,up,down,maxvalue)[1])] = min(customseqlist(x,up,down,maxvalue)[1])   \r\n",
        "          running = False\r\n",
        "        else: #Runs if x is still on the checklist\r\n",
        "          checklist[x] = True          \r\n",
        "          x = customseq(x,up,down)\r\n",
        "          if x == start: \r\n",
        "            running = False                  \r\n",
        "            stablized_values[start] = start\r\n",
        "          elif x in exploded_values: \r\n",
        "            running = False\r\n",
        "            y = start\r\n",
        "            while y not in exploded_values: \r\n",
        "              if y <= maxvalue:\r\n",
        "                exploded_values[y] = y\r\n",
        "              y = customseq(y,up,down)\r\n",
        "      else: #Runs if x is outside of range\r\n",
        "        if x > maxvalue**2: \r\n",
        "          running = False\r\n",
        "          y = start\r\n",
        "          while y < maxvalue**2: \r\n",
        "            if y <= maxvalue:\r\n",
        "              exploded_values[y] = y\r\n",
        "            y = customseq(y,up,down)\r\n",
        "        else: #Runs if x is not considered \"exploded\"\r\n",
        "          x = customseq(x,up,down)\r\n",
        "          if x == start: \r\n",
        "            running = False                  \r\n",
        "            stablized_values[start] = start\r\n",
        "          elif x in exploded_values: \r\n",
        "            running = False\r\n",
        "            y = start\r\n",
        "            while y not in exploded_values: \r\n",
        "              if y <= maxvalue:\r\n",
        "                exploded_values[y] = y\r\n",
        "              y = customseq(y,up,down)\r\n",
        "\r\n",
        "  while None in stablized_values:\r\n",
        "    stablized_values.remove(None)\r\n",
        "  while None in exploded_values:\r\n",
        "    exploded_values.remove(None)\r\n",
        "    \r\n",
        "  return stablized_values,exploded_values"
      ],
      "execution_count": null,
      "outputs": []
    },
    {
      "cell_type": "code",
      "metadata": {
        "id": "bNPv1kFUo2oh"
      },
      "source": [
        "def customcheckfetch(maxvalue,up=(3,1),down=(2),stablized_values=[], exploded_values=[]):\r\n",
        "  '''\r\n",
        "  Checks if stablized_values or exploded_values are provided correctly,\r\n",
        "  Always returns stabliezed_values and exploded_values for the ruleset:\r\n",
        "  x = x//down if x%down == 0, else x = ax+b for up = (a,b)\r\n",
        "  '''\r\n",
        "  rulecheck(up,down)\r\n",
        "\r\n",
        "  if type(stablized_values) == type(exploded_values) == list:\r\n",
        "    return stablized_values, exploded_values\r\n",
        "\r\n",
        "  elif type(stablized_values)  != list and type(exploded_values)  != list:\r\n",
        "    #print('No values provided, fetching...')\r\n",
        "    stablized_values, exploded_values = customcheck(maxvalue,up,down)\r\n",
        "\r\n",
        "  elif type(stablized_values)  != list:\r\n",
        "    #print('stablized_values not provided, fetching...')\r\n",
        "    stablized_values = customcheck(maxvalue,up,down)[0]\r\n",
        "\r\n",
        "  elif type(exploded_values)  != list:\r\n",
        "    #print('exploded_values not provided, fetching...')\r\n",
        "    exploded_values = customcheck(maxvalue,up,down)[1]\r\n",
        "\r\n",
        "  return stablized_values, exploded_values"
      ],
      "execution_count": null,
      "outputs": []
    },
    {
      "cell_type": "code",
      "metadata": {
        "id": "ngvuGsy8J6c-"
      },
      "source": [
        "def getloops(maxvalue,up=(3,1),down=2,stablized_values=None):\r\n",
        "  '''\r\n",
        "  int,(int,int),int -> dict\r\n",
        "  Checks all values up to maxvalue for the ruleset:\r\n",
        "  x = x//down if x%down == 0, else x = ax+b for up = (a,b)\r\n",
        "  Considers a value as \"exploded\" if it goes above maxvalue^2.\r\n",
        "  Returns a dict of all values that stablize and the loops they stablize too.\r\n",
        "  '''\r\n",
        "  rulecheck(up,down)\r\n",
        "\r\n",
        "  stablized_values = customcheckfetch(maxvalue,up,down,stablized_values)[0]\r\n",
        "  loops = {}\r\n",
        "  for x in stablized_values:\r\n",
        "    loops.update({x:customseqlist(x,up,down)[1]})\r\n",
        "  return loops"
      ],
      "execution_count": null,
      "outputs": []
    },
    {
      "cell_type": "code",
      "metadata": {
        "id": "EBYlP7QbDpxH"
      },
      "source": [
        "def get_dict_key(dict,value): #Didn't end up using this one, but I'm pretty proud of it.\r\n",
        "  '''\r\n",
        "  References a dictionary by a given value and returns the first corresponding key.\r\n",
        "  '''\r\n",
        "  return list(dict.keys())[list(dict.values()).index(value)] #Could probably modify it to provide a list of all keys too, if need be."
      ],
      "execution_count": null,
      "outputs": []
    },
    {
      "cell_type": "code",
      "metadata": {
        "id": "cR0J-u3H7FOs"
      },
      "source": [
        "def stablizes_to(x,up=(3,1),down=(2),stablized_values=None,branches=None):\r\n",
        "  '''\r\n",
        "  int,(int,int),int,list,dict -> dict key = int\r\n",
        "  Checks which value in stablized_values x stablizes to for the ruleset:\r\n",
        "  x = x//down if x%down == 0, else x = ax+b for up = (a,b)\r\n",
        "  '''\r\n",
        "  rulecheck(up,down)\r\n",
        "\r\n",
        "  if not branches or not stablized_values:\r\n",
        "    raise TypeError('Please provide stablized_values and current_branch')\r\n",
        "  while x not in stablized_values:\r\n",
        "    x = customseq(x,up,down)\r\n",
        "    for y in branches.keys():\r\n",
        "      if x in branches[y]:\r\n",
        "        return y\r\n",
        "  return x"
      ],
      "execution_count": null,
      "outputs": []
    },
    {
      "cell_type": "code",
      "metadata": {
        "id": "6EAIlUcI7F2R"
      },
      "source": [
        "def getbranches(maxvalue,up=(3,1),down=2,stablized_values=None, exploded_values=None):\r\n",
        "  '''\r\n",
        "  int,(int,int),int,list,list -> dict\r\n",
        "  Sorts non-exploded values by their \"branch\", which is to say,\r\n",
        "  the value they stablize to for the ruleset:\r\n",
        "  x = x//down if x%down == 0, else x = ax+b for up = (a,b)\r\n",
        "  '''\r\n",
        "  rulecheck(up,down)\r\n",
        "\r\n",
        "  output = customcheckfetch(maxvalue,up,down,stablized_values,exploded_values)\r\n",
        "  stablized_values,exploded_values = output[0],output[1]\r\n",
        "  branches = {}\r\n",
        "  for x in stablized_values:\r\n",
        "    branches.update({x:[None]*(maxvalue+1)})\r\n",
        "  myrange = [x for x in list(range(1,maxvalue+1)) if x not in exploded_values and x not in stablized_values]\r\n",
        "  for x in myrange:\r\n",
        "    branches[stablizes_to(x,up,down,stablized_values,branches)][x]=x\r\n",
        "  for x in branches:\r\n",
        "    while None in branches[x]:\r\n",
        "      branches[x].remove(None)\r\n",
        "  return branches"
      ],
      "execution_count": null,
      "outputs": []
    }
  ]
}