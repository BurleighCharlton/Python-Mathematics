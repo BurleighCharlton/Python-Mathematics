{
  "nbformat": 4,
  "nbformat_minor": 0,
  "metadata": {
    "colab": {
      "name": "3n+1_Exploration.ipynb",
      "provenance": [],
      "collapsed_sections": [],
      "toc_visible": true,
      "include_colab_link": true
    },
    "kernelspec": {
      "name": "python3",
      "display_name": "Python 3"
    }
  },
  "cells": [
    {
      "cell_type": "markdown",
      "metadata": {
        "id": "view-in-github",
        "colab_type": "text"
      },
      "source": [
        "<a href=\"https://colab.research.google.com/github/BurleighCharlton/Python-Mathematics/blob/main/3n%2B1_Exploration.ipynb\" target=\"_parent\"><img src=\"https://colab.research.google.com/assets/colab-badge.svg\" alt=\"Open In Colab\"/></a>"
      ]
    },
    {
      "cell_type": "markdown",
      "metadata": {
        "id": "ILoBTuF2Nfu_"
      },
      "source": [
        "#The Exploration: The 3n + 1 conjecture"
      ]
    },
    {
      "cell_type": "markdown",
      "metadata": {
        "id": "ehJ2-mKgN9Vo"
      },
      "source": [
        "###By Burleigh Charlton, Ian Wallace,  Perry Winsor, Louis Wooliever, and Chun Zhou"
      ]
    },
    {
      "cell_type": "markdown",
      "metadata": {
        "id": "KuzjaAAwLLHx"
      },
      "source": [
        "# Introduction"
      ]
    },
    {
      "cell_type": "code",
      "metadata": {
        "colab": {
          "base_uri": "https://localhost:8080/"
        },
        "id": "BoyJ1qIGSj9-",
        "outputId": "37fa4e38-4c1c-4f19-b11c-27f227737486"
      },
      "source": [
        "def collatz_sequence(initial_value, iterations):\r\n",
        "  '''\r\n",
        "  takes a number of iterations 'iterations'\r\n",
        "  and an intial value to start at 'initial_value'\r\n",
        "\r\n",
        "  computes a the collats sequence via the formula\r\n",
        "  3(initial_value)+1\r\n",
        "  collatz_sequence: num, num -> list\r\n",
        "  '''\r\n",
        "  current_value = int(initial_value)\r\n",
        "  sequence_list = [initial_value]\r\n",
        "  for i in range(iterations):\r\n",
        "    if current_value & 1 == 0: #fast way to check if even\r\n",
        "      current_value = int(current_value/2)#divide by 2\r\n",
        "      sequence_list.append(current_value)\r\n",
        "    else:\r\n",
        "      current_value = int((3 * current_value) + 1) #3n+1\r\n",
        "      sequence_list.append(current_value)\r\n",
        "  return sequence_list\r\n",
        "\r\n",
        "\r\n",
        "print(*collatz_sequence(5, 10))\r\n",
        "\r\n",
        "\r\n",
        "\r\n",
        "    "
      ],
      "execution_count": null,
      "outputs": [
        {
          "output_type": "stream",
          "text": [
            "5 16 49 148 445 1336 4009 12028 36085 108256 324769\n"
          ],
          "name": "stdout"
        }
      ]
    },
    {
      "cell_type": "code",
      "metadata": {
        "id": "P0SBN3IWSkup"
      },
      "source": [
        "def collatz(n):\r\n",
        "    step_counter = 0\r\n",
        "    step = n\r\n",
        "    if (n <= 1) or (type(n) != int):\r\n",
        "        raise ValueError('The Collatz conjecture applies only to integers greater than 1.')\r\n",
        "    while step != 1:\r\n",
        "        if step%2==0:\r\n",
        "            step = step//2\r\n",
        "        else:\r\n",
        "            step = 3*step + 1\r\n",
        "        step_counter += 1\r\n",
        "        print('Step {} is {}'.format(step_counter,step))\r\n",
        "    return None"
      ],
      "execution_count": null,
      "outputs": []
    },
    {
      "cell_type": "code",
      "metadata": {
        "id": "VIbeJnsjVOSW"
      },
      "source": [
        ""
      ],
      "execution_count": null,
      "outputs": []
    },
    {
      "cell_type": "code",
      "metadata": {
        "id": "mwYhrWIgV6Pw"
      },
      "source": [
        "def seq(n):\r\n",
        "  '''\r\n",
        "  Creates a values list for all values of n while running the sequence.\r\n",
        "  '''\r\n",
        "  initial_value = n # store inital value\r\n",
        "  values = [] # create list for storing squence values\r\n",
        "  m = 'dummy' # creating a holder variable m\r\n",
        "  while m not in values:\r\n",
        "    values.append(n)\r\n",
        "    if n % 2 == 0: # run conjecture\r\n",
        "      n = int(n/2)\r\n",
        "    else:\r\n",
        "      n = 3*n+1\r\n",
        "    m = n # set m to n for later purpose\r\n",
        "  values.remove(initial_value)\r\n",
        "  return((initial_value,values))\r\n"
      ],
      "execution_count": null,
      "outputs": []
    },
    {
      "cell_type": "code",
      "metadata": {
        "colab": {
          "base_uri": "https://localhost:8080/"
        },
        "id": "amAxadnHYRJs",
        "outputId": "7f38e788-aa92-4856-a1cb-6b4d934e9039"
      },
      "source": [
        "def collatz(n):\r\n",
        "  '''\r\n",
        "  The 3n+1 conjecture. When given a positive integer n, will return the\r\n",
        "  Collatz sequence for the starting value terminating once the sequence hits 1\r\n",
        "  '''\r\n",
        "  sequence = [] #empty list for storing values\r\n",
        "  while (n != 1): #checks that n is not already at 1\r\n",
        "      sequence.append(n)\r\n",
        "      if (n%2 == 0):\r\n",
        "          n = int(n/2)\r\n",
        "      else:\r\n",
        "          n = int(3*n+1)\r\n",
        "  return(sequence)\r\n",
        "print(collatz(174280))\r\n"
      ],
      "execution_count": null,
      "outputs": [
        {
          "output_type": "stream",
          "text": [
            "[174280, 87140, 43570, 21785, 65356, 32678, 16339, 49018, 24509, 73528, 36764, 18382, 9191, 27574, 13787, 41362, 20681, 62044, 31022, 15511, 46534, 23267, 69802, 34901, 104704, 52352, 26176, 13088, 6544, 3272, 1636, 818, 409, 1228, 614, 307, 922, 461, 1384, 692, 346, 173, 520, 260, 130, 65, 196, 98, 49, 148, 74, 37, 112, 56, 28, 14, 7, 22, 11, 34, 17, 52, 26, 13, 40, 20, 10, 5, 16, 8, 4, 2]\n"
          ],
          "name": "stdout"
        }
      ]
    },
    {
      "cell_type": "code",
      "metadata": {
        "id": "KjR-a6whZ88e",
        "colab": {
          "base_uri": "https://localhost:8080/"
        },
        "outputId": "effd9a97-ed47-4ad6-c53c-985062de0d50"
      },
      "source": [
        "def collatz_sequence_faster(initial_value):\r\n",
        "  '''\r\n",
        "  and an intial value to start at 'initial_value'\r\n",
        "\r\n",
        "  computes a the collats sequence via the formula\r\n",
        "  3(initial_value)+1\r\n",
        "  breaks when the sequence 4,2,1 is reached\r\n",
        "  collatz_sequence: num -> num\r\n",
        "  '''\r\n",
        "\r\n",
        "  value_1 = int(initial_value) #current iteration\r\n",
        "  value_2 = 0 #second back\r\n",
        "  value_3 = 0 #third back\r\n",
        "  iterations = 0\r\n",
        "  while (value_3, value_2, value_1) != (4,2,1):\r\n",
        "    iterations += 1\r\n",
        "    if value_1 & 1 == 0: #fast way to check if even\r\n",
        "      value_3 = value_2  #move value 2 to value 3\r\n",
        "      value_2 = value_1  #move value 1 to value 2\r\n",
        "      value_1 = int(value_1/2)#divide by 2 and update value 1\r\n",
        "    else:\r\n",
        "      value_3 = value_2  #move value 2 to value 3\r\n",
        "      value_2 = value_1  #move value 1 to value 2\r\n",
        "      value_1 = int((3 * value_1) + 1) #3n+1 and update value 1\r\n",
        "  return (iterations)\r\n",
        "\r\n",
        "\r\n",
        "%timeit(collatz_sequence_faster(3452345))\r\n",
        "\r\n",
        "\r\n",
        "\r\n",
        "    "
      ],
      "execution_count": null,
      "outputs": [
        {
          "output_type": "stream",
          "text": [
            "10000 loops, best of 3: 28.8 µs per loop\n"
          ],
          "name": "stdout"
        }
      ]
    },
    {
      "cell_type": "markdown",
      "metadata": {
        "id": "2xB_vEKzUUhL"
      },
      "source": [
        "#Perry Winsor's humble "
      ]
    },
    {
      "cell_type": "code",
      "metadata": {
        "id": "mVIJ_CUwaayI"
      },
      "source": [
        "#Perry Winsor\r\n",
        "def sequick(n):\r\n",
        "  '''\r\n",
        "  Take 2\r\n",
        "  '''\r\n",
        "  while n != 4:\r\n",
        "    if n % 2 == 0:\r\n",
        "      n /= 2\r\n",
        "    else:\r\n",
        "      n = 3*n+1\r\n",
        "  return True"
      ],
      "execution_count": null,
      "outputs": []
    },
    {
      "cell_type": "code",
      "metadata": {
        "colab": {
          "base_uri": "https://localhost:8080/"
        },
        "id": "TJMc6CDIzsWl",
        "outputId": "7916c3d3-a429-44f7-85ae-fe24bdd3a0ba"
      },
      "source": [
        "%timeit(sequick(1000000))"
      ],
      "execution_count": null,
      "outputs": [
        {
          "output_type": "stream",
          "text": [
            "The slowest run took 9.24 times longer than the fastest. This could mean that an intermediate result is being cached.\n",
            "10000 loops, best of 3: 26.7 µs per loop\n"
          ],
          "name": "stdout"
        }
      ]
    },
    {
      "cell_type": "code",
      "metadata": {
        "id": "5wAD0YROzE9C"
      },
      "source": [
        "def check(m):\r\n",
        "  '''\r\n",
        "  Rough, brute-force check.\r\n",
        "  Likely to be effective for small numbers but slow at large m.\r\n",
        "  '''\r\n",
        "  for n in range (1,m+1):\r\n",
        "    if sequick(n) == True:\r\n",
        "      None\r\n",
        "    else:\r\n",
        "      return False\r\n",
        "  return True"
      ],
      "execution_count": null,
      "outputs": []
    },
    {
      "cell_type": "code",
      "metadata": {
        "colab": {
          "base_uri": "https://localhost:8080/"
        },
        "id": "AchLANMDzZLT",
        "outputId": "3626e7b1-19e2-4a25-b136-c896dbd5ab8f"
      },
      "source": [
        "%timeit(check(10000))"
      ],
      "execution_count": null,
      "outputs": [
        {
          "output_type": "stream",
          "text": [
            "10 loops, best of 3: 163 ms per loop\n"
          ],
          "name": "stdout"
        }
      ]
    },
    {
      "cell_type": "code",
      "metadata": {
        "colab": {
          "base_uri": "https://localhost:8080/"
        },
        "id": "_p3_NGPDzgv-",
        "outputId": "dec69bd6-0f3f-4a7f-ac32-b8c123adb5c3"
      },
      "source": [
        "%timeit(check(100000))"
      ],
      "execution_count": null,
      "outputs": [
        {
          "output_type": "stream",
          "text": [
            "1 loop, best of 3: 2.12 s per loop\n"
          ],
          "name": "stdout"
        }
      ]
    },
    {
      "cell_type": "markdown",
      "metadata": {
        "id": "BlT3v4Rb0OX1"
      },
      "source": [
        "It won't run for n = 1000000."
      ]
    },
    {
      "cell_type": "markdown",
      "metadata": {
        "id": "JuN7tiHsbsAL"
      },
      "source": [
        "In case anyone is ever cuirous about the sequence for any number, which I have been mutiple times, here is this little code I wrote. I'm pretty sure there's one of these up higher, but I've used this in a few of my experiments so if I chose to add those later I want to have this here."
      ]
    },
    {
      "cell_type": "code",
      "metadata": {
        "id": "VI2mtWH1UcyQ"
      },
      "source": [
        "def seqlist(n):\r\n",
        "  '''\r\n",
        "  Creates a list of the sequence.\r\n",
        "  int(n) -> list(values)\r\n",
        "  '''\r\n",
        "  initial_value = n # store inital value\r\n",
        "  values = [] # create list for storing squence values\r\n",
        "  m = 'dummy' # creating a holder variable m\r\n",
        "  while m not in values:\r\n",
        "    values.append(n)\r\n",
        "    if n % 2 == 0: # run conjecture\r\n",
        "      n = int(n/2)\r\n",
        "    else:\r\n",
        "      n = 3*n+1\r\n",
        "    m = n # set m to n for later purpose\r\n",
        "  values.remove(initial_value)\r\n",
        "  return values"
      ],
      "execution_count": null,
      "outputs": []
    },
    {
      "cell_type": "markdown",
      "metadata": {
        "id": "C7qORAB-b3Zl"
      },
      "source": [
        "The following is my crack at the check all one, since my last one was more of a proof of non-concept for the brute force apporach."
      ]
    },
    {
      "cell_type": "code",
      "metadata": {
        "id": "xo-pLp6Sb_EA"
      },
      "source": [
        "def checklist(n):\r\n",
        "  '''\r\n",
        "  Perry's checklist code.\r\n",
        "  Constructs a list and checks it twice.\r\n",
        "  Well it checks it a few more than twice but you get the idea.\r\n",
        "  Fails to find out who is naughty xor nice.\r\n",
        "  '''\r\n",
        "\r\n",
        "  checklist = [False]*n             #Construct a checklist\r\n",
        "  checklist[0] = True               #Set 1 to True \r\n",
        "                                    ##4 the reason that we know all 2 well what happens if we use 1 \r\n",
        " \r\n",
        "  for x in range(2,n+1):            #Itterate over x\r\n",
        "\r\n",
        "    m = x                           #Set dummy value m to x\r\n",
        "\r\n",
        "    while checklist[m-1] == False:  #Check if m's checklist value is false. \r\n",
        "      checklist[m-1] = True         #if it is, set m to True,\r\n",
        "      if m % 2 == 0:                #then run the sequence.\r\n",
        "        m = m//2                    \r\n",
        "      else:                         \r\n",
        "        m = 3*m+1\r\n",
        "                                    #In order to avoid checking outside of list range,\r\n",
        "      while m > n:                  #check if m is outside our range,\r\n",
        "        if m % 2 == 0:              #then run the sequence.\r\n",
        "          m = m//2                  \r\n",
        "        else:                      \r\n",
        "          m = 3*m+1    \r\n",
        "\r\n",
        "      if x == m:                    #Check if the sequence stablized before hitting 1\r\n",
        "        return x     \r\n",
        "\r\n",
        "  return checklist"
      ],
      "execution_count": null,
      "outputs": []
    },
    {
      "cell_type": "markdown",
      "metadata": {
        "id": "UK7PlN5wgISS"
      },
      "source": [
        "We know that if any of the checked values are hit, the sequence will stablize, since the checked values will stablize."
      ]
    },
    {
      "cell_type": "code",
      "metadata": {
        "colab": {
          "base_uri": "https://localhost:8080/"
        },
        "id": "_ewDN7TycPab",
        "outputId": "bbe3b49d-16f3-462f-d7af-6e45589b08db"
      },
      "source": [
        "%timeit(checklist(1000000))"
      ],
      "execution_count": null,
      "outputs": [
        {
          "output_type": "stream",
          "text": [
            "1 loop, best of 3: 545 ms per loop\n"
          ],
          "name": "stdout"
        }
      ]
    },
    {
      "cell_type": "markdown",
      "metadata": {
        "id": "h24zxed4cXJb"
      },
      "source": [
        "Works to $10^6$ in about half a second."
      ]
    },
    {
      "cell_type": "code",
      "metadata": {
        "id": "B5Oxv5RVcd5h",
        "colab": {
          "base_uri": "https://localhost:8080/"
        },
        "outputId": "31d75ed2-779e-473d-cfba-310ab6da2f04"
      },
      "source": [
        "%timeit(checklist(10000000))"
      ],
      "execution_count": null,
      "outputs": [
        {
          "output_type": "stream",
          "text": [
            "1 loop, best of 3: 5.44 s per loop\n"
          ],
          "name": "stdout"
        }
      ]
    },
    {
      "cell_type": "markdown",
      "metadata": {
        "id": "1Edy-wYpc4dL"
      },
      "source": [
        "Took 5.44 seconds for $10^7$ so I'm not gonna check any higher."
      ]
    },
    {
      "cell_type": "markdown",
      "metadata": {
        "id": "5zKoSZlIfNSN"
      },
      "source": [
        "Below I wrote a quick little code to check a list to see if checklist checked all the checks in the checklist."
      ]
    },
    {
      "cell_type": "code",
      "metadata": {
        "id": "g2K2uPqvfMin"
      },
      "source": [
        "def checkthechecklistlist(n):\r\n",
        "  if type(n) != list:\r\n",
        "    raise TypeError('This checklist check-lister only checks list, preferably checklists.')\r\n",
        "  for x in n:\r\n",
        "    if n == False:\r\n",
        "      return False\r\n",
        "  return True"
      ],
      "execution_count": null,
      "outputs": []
    },
    {
      "cell_type": "code",
      "metadata": {
        "colab": {
          "base_uri": "https://localhost:8080/"
        },
        "id": "Qs9zu7WPfX7d",
        "outputId": "51a6cbc4-858f-4900-8123-4462c493dafe"
      },
      "source": [
        "checkthechecklistlist(checklist(10000000))"
      ],
      "execution_count": null,
      "outputs": [
        {
          "output_type": "execute_result",
          "data": {
            "text/plain": [
              "True"
            ]
          },
          "metadata": {
            "tags": []
          },
          "execution_count": 8
        }
      ]
    },
    {
      "cell_type": "markdown",
      "metadata": {
        "id": "9v_xFDQOfgm3"
      },
      "source": [
        "It would appear it did check."
      ]
    },
    {
      "cell_type": "markdown",
      "metadata": {
        "id": "gCghiiommWeW"
      },
      "source": [
        "And finally the debugging version which add a few too many print statements for the purpose of running something a couple million times."
      ]
    },
    {
      "cell_type": "code",
      "metadata": {
        "id": "ZKzM42O9mV6I"
      },
      "source": [
        "def checklistdebug(n):\r\n",
        "  '''\r\n",
        "Debug version of checklist(n).\r\n",
        "  '''\r\n",
        "\r\n",
        "  checklist = [False]*n             #Construct a checklist\r\n",
        "  checklist[0] = True\r\n",
        " \r\n",
        "  for x in range(2,n+1):            #Itterate over x\r\n",
        "\r\n",
        "    print('Checking {}...{} is {}'.format(x,x,checklist[x-1]))\r\n",
        "    m = x                           #Set dummy value m to x\r\n",
        "\r\n",
        "    while checklist[m-1] == False:  #Check if m's checklist value is false. \r\n",
        "      print('Checking list for {}...{}'.format(m,checklist[m-1]))\r\n",
        "\r\n",
        "      checklist[m-1] = True         #if it is, set m to True,\r\n",
        "\r\n",
        "      if m % 2 == 0:                #then run the sequence.\r\n",
        "        m = m//2                    #Since n starts at 1,\r\n",
        "      else:                         #1,4,2 will be inputed imediately.\r\n",
        "        m = 3*m+1\r\n",
        "      print('m is now {}'.format(m))\r\n",
        "                                    #In order to avoid checking outside of list range,\r\n",
        "      while m > n:                  #check if m is outside our range,\r\n",
        "        print('{} is greater than {}...'.format(m,n))                  \r\n",
        "        if m % 2 == 0:              #then run the sequence.\r\n",
        "          m = m//2                  \r\n",
        "        else:                      \r\n",
        "          m = 3*m+1\r\n",
        "        print('m is now {}'.format(m)) \r\n",
        "\r\n",
        "      if x == m:\r\n",
        "        return x            \r\n",
        "\r\n",
        "    print('->{} is {}'.format(m,checklist[m-1]))    \r\n",
        "\r\n",
        "  return checklist"
      ],
      "execution_count": null,
      "outputs": []
    },
    {
      "cell_type": "code",
      "metadata": {
        "colab": {
          "base_uri": "https://localhost:8080/"
        },
        "id": "8ZU_-zEumyCc",
        "outputId": "6a6ab5cb-dfa6-48e2-9a3f-0070bc3d849c"
      },
      "source": [
        "checklistdebug(5)"
      ],
      "execution_count": null,
      "outputs": [
        {
          "output_type": "stream",
          "text": [
            "Checking 2...2 is False\n",
            "Checking list for 2...False\n",
            "m is now 1\n",
            "->1 is True\n",
            "Checking 3...3 is False\n",
            "Checking list for 3...False\n",
            "m is now 10\n",
            "10 is greater than 5...\n",
            "m is now 5\n",
            "Checking list for 5...False\n",
            "m is now 16\n",
            "16 is greater than 5...\n",
            "m is now 8\n",
            "8 is greater than 5...\n",
            "m is now 4\n",
            "Checking list for 4...False\n",
            "m is now 2\n",
            "->2 is True\n",
            "Checking 4...4 is True\n",
            "->4 is True\n",
            "Checking 5...5 is True\n",
            "->5 is True\n"
          ],
          "name": "stdout"
        },
        {
          "output_type": "execute_result",
          "data": {
            "text/plain": [
              "[True, True, True, True, True]"
            ]
          },
          "metadata": {
            "tags": []
          },
          "execution_count": 31
        }
      ]
    },
    {
      "cell_type": "markdown",
      "metadata": {
        "id": "TInGzgzXbJkw"
      },
      "source": [
        "#  Chun's Quick Conjecture Check\r\n",
        "Written by Chun Zhou\r\n",
        "\r\n",
        "> Indented block\r\n",
        "\r\n"
      ]
    },
    {
      "cell_type": "code",
      "metadata": {
        "id": "FPrsurDFNCE2"
      },
      "source": [
        "i#check through all\r\n",
        "mport numpy as np\r\n",
        "#check for all (require part)\r\n",
        "def conj_all(n): \r\n",
        "  ''' conpute all conjecture 3+1 from 1 up to n\r\n",
        "      The function will create the array for check all number from 1 to n.\r\n",
        "      e.g.If the array[3] is 0, then 3 is not yet conpute, otherwise array[3] is 1.\r\n",
        "      This method help save time and memory.\r\n",
        "      takes \r\n",
        "      'n' the number to check to \r\n",
        "      conj_all: num -> boolean\r\n",
        "  '''\r\n",
        "  array = [0] * (n+1) # create the empty array of size n\r\n",
        "  s = 0 # initial value \r\n",
        "  for i in range(1,n+1): # loop all the number from 1 to n\r\n",
        "    if conj(i,array,n): # run the Conjecture for each i.\r\n",
        "      array[i]=1 # assign 1 to the array[i] since number i is already computed from conj_2 \r\n",
        "  return True\r\n"
      ],
      "execution_count": null,
      "outputs": []
    },
    {
      "cell_type": "code",
      "metadata": {
        "id": "OlBpFw78aOP-"
      },
      "source": [
        "# Check for specific number\r\n",
        "def conj(n,array,total):\r\n",
        "  '''\r\n",
        "  Run the 3n+1 conjecture with input n. It prints out every steps until\r\n",
        "  the n become 1, which will loop after.\r\n",
        "  'n'     the number to check\r\n",
        "  'array' as a initially populated with all 0 of length 'total'\r\n",
        "  'total' the highest number we are checking to\r\n",
        "  conj: num, array, num -> boolean\r\n",
        "  '''\r\n",
        "  if type(n) != int: #check if the input is integer\r\n",
        "    raise TypeError('Only integers can be even or odd.')\r\n",
        "  \r\n",
        "  \r\n",
        "\r\n",
        "  t = n\r\n",
        "  while (n != 1 and array[t]!=1): # check if the number is at 1, it will loop from there \r\n",
        "    if n%2 == 0: # when n is even, divide by 2\r\n",
        "      n = (int)(n/2)\r\n",
        "    else: # when n is odd, n = 3n+1\r\n",
        "      n = (int)(3*n+1)\r\n",
        "    if n <= total:\r\n",
        "      t = n\r\n",
        "    else:\r\n",
        "      t = 0\r\n",
        "    \r\n",
        "    #print('n is: ',n, 'array[{}]{}'.format(t,array[t]))  #print out every step\r\n",
        "    \r\n",
        "  \r\n",
        "  return True"
      ],
      "execution_count": null,
      "outputs": []
    },
    {
      "cell_type": "markdown",
      "metadata": {
        "id": "2FYcgsSSx5UO"
      },
      "source": [
        "##Testing"
      ]
    },
    {
      "cell_type": "code",
      "metadata": {
        "colab": {
          "base_uri": "https://localhost:8080/"
        },
        "id": "db-VkbTqaPb2",
        "outputId": "37b09090-a4f1-46a2-9999-cb9c0cbca2da"
      },
      "source": [
        "%timeit(conj_all(10000))"
      ],
      "execution_count": null,
      "outputs": [
        {
          "output_type": "stream",
          "text": [
            "100 loops, best of 3: 18 ms per loop\n"
          ],
          "name": "stdout"
        }
      ]
    },
    {
      "cell_type": "code",
      "metadata": {
        "colab": {
          "base_uri": "https://localhost:8080/"
        },
        "id": "qKHlFe6MaSXX",
        "outputId": "7f029a2f-e0db-4cc9-fcf4-4158eab2f353"
      },
      "source": [
        "%timeit(conj_all(100000))"
      ],
      "execution_count": null,
      "outputs": [
        {
          "output_type": "stream",
          "text": [
            "10 loops, best of 3: 179 ms per loop\n"
          ],
          "name": "stdout"
        }
      ]
    },
    {
      "cell_type": "code",
      "metadata": {
        "colab": {
          "base_uri": "https://localhost:8080/"
        },
        "id": "inwZtFnYajJ9",
        "outputId": "0aa9ec4f-1a67-4c2a-aece-9833a8e8a915"
      },
      "source": [
        "%timeit(conj_all(1000000))"
      ],
      "execution_count": null,
      "outputs": [
        {
          "output_type": "stream",
          "text": [
            "1 loop, best of 3: 1.92 s per loop\n"
          ],
          "name": "stdout"
        }
      ]
    },
    {
      "cell_type": "markdown",
      "metadata": {
        "id": "cvmOFFsDaqBA"
      },
      "source": [
        "My code can run for **all positive integers(required part)** from 1 to 1000000 within 2s. Maybe hard to understand and I will explain in class.\r\n",
        "-Chun Zhou"
      ]
    },
    {
      "cell_type": "markdown",
      "metadata": {
        "id": "BQcAnQDqxXta"
      },
      "source": [
        "##Negative Checking"
      ]
    },
    {
      "cell_type": "code",
      "metadata": {
        "id": "qv-I_YyFrl3K"
      },
      "source": [
        "# Optional part Check the conjecture for negative numbers.\r\n",
        "\r\n",
        "def conj_neg(n):\r\n",
        "  '''\r\n",
        "  Run the 3n+1 conjecture with input n. It prints out every steps until\r\n",
        "  the n become 1, which will loop after.\r\n",
        "  '''\r\n",
        "  if type(n) != int: #check if the input is integer\r\n",
        "    raise TypeError('Only integers can be even or odd.')\r\n",
        "  #if n<0: #check if the input is positive\r\n",
        "    #raise ValueError('Cannot be negative numbers.')\r\n",
        "  i = 1\r\n",
        "  while (i != 20): # check if the number is at 1, it will loop from there\r\n",
        "    if n%2 == 0: # when n is even, divide by 2\r\n",
        "      n = n/2\r\n",
        "    else: # when n is odd, n = 3n+1\r\n",
        "      n = 3*n+1\r\n",
        "    print('n is: ',n)  #print out every step\r\n",
        "    i = i+1\r\n",
        "  return n"
      ],
      "execution_count": null,
      "outputs": []
    },
    {
      "cell_type": "code",
      "metadata": {
        "colab": {
          "base_uri": "https://localhost:8080/"
        },
        "id": "Xs-Gozglv4ut",
        "outputId": "6a1f2f78-2352-4ab0-d3fb-9362744f01e5"
      },
      "source": [
        "conj_neg(-100)"
      ],
      "execution_count": null,
      "outputs": [
        {
          "output_type": "stream",
          "text": [
            "n is:  -50.0\n",
            "n is:  -25.0\n",
            "n is:  -74.0\n",
            "n is:  -37.0\n",
            "n is:  -110.0\n",
            "n is:  -55.0\n",
            "n is:  -164.0\n",
            "n is:  -82.0\n",
            "n is:  -41.0\n",
            "n is:  -122.0\n",
            "n is:  -61.0\n",
            "n is:  -182.0\n",
            "n is:  -91.0\n",
            "n is:  -272.0\n",
            "n is:  -136.0\n",
            "n is:  -68.0\n",
            "n is:  -34.0\n",
            "n is:  -17.0\n",
            "n is:  -50.0\n"
          ],
          "name": "stdout"
        },
        {
          "output_type": "execute_result",
          "data": {
            "text/plain": [
              "-50.0"
            ]
          },
          "metadata": {
            "tags": []
          },
          "execution_count": 3
        }
      ]
    },
    {
      "cell_type": "code",
      "metadata": {
        "colab": {
          "base_uri": "https://localhost:8080/"
        },
        "id": "jDjVd19kwIjK",
        "outputId": "5a7e2504-21f5-4e93-b328-1560bc721831"
      },
      "source": [
        "conj_neg(-20)"
      ],
      "execution_count": null,
      "outputs": [
        {
          "output_type": "stream",
          "text": [
            "n is:  -10.0\n",
            "n is:  -5.0\n",
            "n is:  -14.0\n",
            "n is:  -7.0\n",
            "n is:  -20.0\n",
            "n is:  -10.0\n",
            "n is:  -5.0\n",
            "n is:  -14.0\n",
            "n is:  -7.0\n",
            "n is:  -20.0\n",
            "n is:  -10.0\n",
            "n is:  -5.0\n",
            "n is:  -14.0\n",
            "n is:  -7.0\n",
            "n is:  -20.0\n",
            "n is:  -10.0\n",
            "n is:  -5.0\n",
            "n is:  -14.0\n",
            "n is:  -7.0\n"
          ],
          "name": "stdout"
        },
        {
          "output_type": "execute_result",
          "data": {
            "text/plain": [
              "-7.0"
            ]
          },
          "metadata": {
            "tags": []
          },
          "execution_count": 4
        }
      ]
    },
    {
      "cell_type": "code",
      "metadata": {
        "colab": {
          "base_uri": "https://localhost:8080/"
        },
        "id": "bnmdcrFUwOkh",
        "outputId": "40bd66dc-aa52-4c1b-d1df-abdda2908d2a"
      },
      "source": [
        "conj_neg(-50)"
      ],
      "execution_count": null,
      "outputs": [
        {
          "output_type": "stream",
          "text": [
            "n is:  -25.0\n",
            "n is:  -74.0\n",
            "n is:  -37.0\n",
            "n is:  -110.0\n",
            "n is:  -55.0\n",
            "n is:  -164.0\n",
            "n is:  -82.0\n",
            "n is:  -41.0\n",
            "n is:  -122.0\n",
            "n is:  -61.0\n",
            "n is:  -182.0\n",
            "n is:  -91.0\n",
            "n is:  -272.0\n",
            "n is:  -136.0\n",
            "n is:  -68.0\n",
            "n is:  -34.0\n",
            "n is:  -17.0\n",
            "n is:  -50.0\n",
            "n is:  -25.0\n"
          ],
          "name": "stdout"
        },
        {
          "output_type": "execute_result",
          "data": {
            "text/plain": [
              "-25.0"
            ]
          },
          "metadata": {
            "tags": []
          },
          "execution_count": 5
        }
      ]
    },
    {
      "cell_type": "code",
      "metadata": {
        "colab": {
          "base_uri": "https://localhost:8080/"
        },
        "id": "Af3I1A3SwPlQ",
        "outputId": "3e3be2c3-c553-4fb2-9242-53ac3755b9e4"
      },
      "source": [
        "conj_neg(-40)"
      ],
      "execution_count": null,
      "outputs": [
        {
          "output_type": "stream",
          "text": [
            "n is:  -20.0\n",
            "n is:  -10.0\n",
            "n is:  -5.0\n",
            "n is:  -14.0\n",
            "n is:  -7.0\n",
            "n is:  -20.0\n",
            "n is:  -10.0\n",
            "n is:  -5.0\n",
            "n is:  -14.0\n",
            "n is:  -7.0\n",
            "n is:  -20.0\n",
            "n is:  -10.0\n",
            "n is:  -5.0\n",
            "n is:  -14.0\n",
            "n is:  -7.0\n",
            "n is:  -20.0\n",
            "n is:  -10.0\n",
            "n is:  -5.0\n",
            "n is:  -14.0\n"
          ],
          "name": "stdout"
        },
        {
          "output_type": "execute_result",
          "data": {
            "text/plain": [
              "-14.0"
            ]
          },
          "metadata": {
            "tags": []
          },
          "execution_count": 6
        }
      ]
    },
    {
      "cell_type": "code",
      "metadata": {
        "colab": {
          "base_uri": "https://localhost:8080/"
        },
        "id": "nI7oGhuFwTDd",
        "outputId": "e10fb29d-b5e7-40c7-f618-512b4be09f93"
      },
      "source": [
        "conj_neg(-150)"
      ],
      "execution_count": null,
      "outputs": [
        {
          "output_type": "stream",
          "text": [
            "n is:  -75.0\n",
            "n is:  -224.0\n",
            "n is:  -112.0\n",
            "n is:  -56.0\n",
            "n is:  -28.0\n",
            "n is:  -14.0\n",
            "n is:  -7.0\n",
            "n is:  -20.0\n",
            "n is:  -10.0\n",
            "n is:  -5.0\n",
            "n is:  -14.0\n",
            "n is:  -7.0\n",
            "n is:  -20.0\n",
            "n is:  -10.0\n",
            "n is:  -5.0\n",
            "n is:  -14.0\n",
            "n is:  -7.0\n",
            "n is:  -20.0\n",
            "n is:  -10.0\n"
          ],
          "name": "stdout"
        },
        {
          "output_type": "execute_result",
          "data": {
            "text/plain": [
              "-10.0"
            ]
          },
          "metadata": {
            "tags": []
          },
          "execution_count": 7
        }
      ]
    },
    {
      "cell_type": "markdown",
      "metadata": {
        "id": "RgYB87_mOqwC"
      },
      "source": [
        "Here's a really fast checker. works on really big values, n>10000000000000000000000   \r\n",
        "-Burleigh"
      ]
    },
    {
      "cell_type": "markdown",
      "metadata": {
        "id": "aBymu5C-awES"
      },
      "source": [
        ""
      ]
    },
    {
      "cell_type": "markdown",
      "metadata": {
        "id": "YR0-KoPtO2Lv"
      },
      "source": [
        "# Burleighs Graphing"
      ]
    },
    {
      "cell_type": "code",
      "metadata": {
        "id": "DdMHNCdTtk1V"
      },
      "source": [
        "def collatz_sequence_tuple(initial_value, iterations):\r\n",
        "  '''\r\n",
        "  takes a number of iterations 'iterations'\r\n",
        "  and an intial value to start at 'initial_value'\r\n",
        "  returns a list of tuples of the form (iteration, value)\r\n",
        "\r\n",
        "  computes a the collats sequence via the formula\r\n",
        "  3(initial_value)+1\r\n",
        "  collatz_sequence: num, num -> list\r\n",
        "  '''\r\n",
        "  current_value = int(initial_value)\r\n",
        "  sequence_list = [(0,initial_value)]\r\n",
        "  for i in range(1, iterations):\r\n",
        "    if current_value & 1 == 0: #fast way to check if even\r\n",
        "      current_value = int(current_value/2)#divide by 2\r\n",
        "      sequence_list.append((i, current_value))\r\n",
        "    else:\r\n",
        "      current_value = int((3 * current_value) + 1) #3n+1\r\n",
        "      sequence_list.append((i,current_value))\r\n",
        "  return sequence_list\r\n",
        "\r\n"
      ],
      "execution_count": null,
      "outputs": []
    },
    {
      "cell_type": "code",
      "metadata": {
        "id": "5L__l7o9PwzX"
      },
      "source": [
        "import matplotlib.pyplot as plt\r\n",
        "import numpy as np\r\n",
        "import matplotlib.cm as cm\r\n",
        "from matplotlib.ticker import (MultipleLocator, FormatStrFormatter,\r\n",
        "                               AutoMinorLocator)\r\n",
        "\r\n",
        "def plot_collatz(max_val, iterations):\r\n",
        "  '''\r\n",
        "  plots the collatz sequence of starting values\r\n",
        "  1 through 'max_val', or 'iterations' iterations\r\n",
        "  plot_collatz: num, num -> graph\r\n",
        "  '''\r\n",
        "  fig, ax = plt.subplots(1,1) # gets a handle for the AxesSubplot object\r\n",
        "  #ax=fig.add_subplot(111)\r\n",
        "  color=iter(cm.rainbow(np.linspace(0,1,max_val)))\r\n",
        "  for i in range(1, max_val):\r\n",
        "    c=next(color)\r\n",
        "    data_in_array = np.array(collatz_sequence_tuple(i, iterations)).T #put the list into an array and transpose it\r\n",
        "    x,y = data_in_array #make it x and y\r\n",
        "    #fig, ax = plt.subplots(1,1) # gets a handle for the AxesSubplot object\r\n",
        "    #ax.plot(x, y, 'ro')\r\n",
        "    ax.plot(x, y, c=c, marker='+', linestyle='dashed', linewidth=0, markersize=4)\r\n",
        "  plt.title('Collatz Sequence 0 to {}'.format(max_val))\r\n",
        "  plt.xlabel('Iteration')\r\n",
        "  plt.ylabel('Value')\r\n",
        "  #ax.xaxis.set_major_locator(MultipleLocator(iterations/10))\r\n",
        "  ax.set_xlim(0,iterations )\r\n",
        "  plt.show()\r\n",
        "\r\n"
      ],
      "execution_count": null,
      "outputs": []
    },
    {
      "cell_type": "markdown",
      "metadata": {
        "id": "z9kT4xd0ySpL"
      },
      "source": [
        "##Plotting"
      ]
    },
    {
      "cell_type": "code",
      "metadata": {
        "colab": {
          "base_uri": "https://localhost:8080/",
          "height": 295
        },
        "id": "hQp7cPz0tsVN",
        "outputId": "61b0ae8e-6e96-4626-8c78-82a13efb112c"
      },
      "source": [
        "plot_collatz(10,30)"
      ],
      "execution_count": null,
      "outputs": [
        {
          "output_type": "display_data",
          "data": {
            "image/png": "[encoded data removed]",
            "text/plain": [
              "<Figure size 432x288 with 1 Axes>"
            ]
          },
          "metadata": {
            "tags": [],
            "needs_background": "light"
          }
        }
      ]
    },
    {
      "cell_type": "code",
      "metadata": {
        "colab": {
          "base_uri": "https://localhost:8080/",
          "height": 295
        },
        "id": "AkvGcwSztuva",
        "outputId": "99c50fe5-3e7d-4d29-8732-4cceee7566d0"
      },
      "source": [
        "plot_collatz(100,100)"
      ],
      "execution_count": null,
      "outputs": [
        {
          "output_type": "display_data",
          "data": {
            "image/png": "[encoded data removed]",
            "text/plain": [
              "<Figure size 432x288 with 1 Axes>"
            ]
          },
          "metadata": {
            "tags": [],
            "needs_background": "light"
          }
        }
      ]
    },
    {
      "cell_type": "code",
      "metadata": {
        "id": "AIcGut1muFNU"
      },
      "source": [
        ""
      ],
      "execution_count": null,
      "outputs": []
    },
    {
      "cell_type": "markdown",
      "metadata": {
        "id": "D-a05oHr06q4"
      },
      "source": [
        "#Ian's Corner of dropping"
      ]
    },
    {
      "cell_type": "code",
      "metadata": {
        "id": "YON33iDk09d0"
      },
      "source": [
        ""
      ],
      "execution_count": null,
      "outputs": []
    }
  ]
}