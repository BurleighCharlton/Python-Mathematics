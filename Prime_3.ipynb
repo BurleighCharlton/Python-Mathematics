{
  "nbformat": 4,
  "nbformat_minor": 0,
  "metadata": {
    "colab": {
      "name": "Prime 3.ipynb",
      "provenance": [],
      "collapsed_sections": [],
      "toc_visible": true,
      "include_colab_link": true
    },
    "kernelspec": {
      "name": "python3",
      "display_name": "Python 3"
    }
  },
  "cells": [
    {
      "cell_type": "markdown",
      "metadata": {
        "id": "view-in-github",
        "colab_type": "text"
      },
      "source": [
        "<a href=\"https://colab.research.google.com/github/BurleighCharlton/Python-Mathematics/blob/main/Prime_3.ipynb\" target=\"_parent\"><img src=\"https://colab.research.google.com/assets/colab-badge.svg\" alt=\"Open In Colab\"/></a>"
      ]
    },
    {
      "cell_type": "markdown",
      "metadata": {
        "id": "p5jMmCvrWEQ4"
      },
      "source": [
        "#Prime Exploration"
      ]
    },
    {
      "cell_type": "markdown",
      "metadata": {
        "id": "acywvr_2WGA7"
      },
      "source": [
        "By Conrad Ainslie, Akshita Bafna, Burleigh Charlton, Yang, Li, Kevin Nguyen"
      ]
    },
    {
      "cell_type": "markdown",
      "metadata": {
        "id": "kZcZ7P7bWc0W"
      },
      "source": [
        ""
      ]
    },
    {
      "cell_type": "code",
      "metadata": {
        "id": "m6SLulzVYsV4"
      },
      "source": [
        "import numpy as np\r\n",
        "import matplotlib.pyplot as plt\r\n",
        "from mpmath import li\r\n",
        "from PIL import Image # Load the package."
      ],
      "execution_count": 2,
      "outputs": []
    },
    {
      "cell_type": "code",
      "metadata": {
        "id": "UNuSUoAynUdS"
      },
      "source": [
        "#stuff we have 'borrowed' from marty\r\n",
        "def isprime_list(n):\r\n",
        "    ''' \r\n",
        "    Return a list of length n+1\r\n",
        "    with Trues at prime indices and Falses at composite indices.\r\n",
        "    '''\r\n",
        "    flags = [True] * (n+1)  # A list [True, True, True,...] to start.\r\n",
        "    flags[0] = False  # Zero is not prime.  So its flag is set to False.\r\n",
        "    flags[1] = False  # One is not prime.  So its flag is set to False.\r\n",
        "    flags[4::2] = [False] * ((n-2)//2)\r\n",
        "    p = 3\r\n",
        "    while p <= np.sqrt(n):  # We only need to sieve by p is p <= sqrt(n).\r\n",
        "        if flags[p]:  # We sieve the multiples of p if flags[p]=True.\r\n",
        "            flags[p*p::2*p] = [False] * ((n-p*p)//(2*p)+1) # Sieves out multiples of p, starting at p*p.\r\n",
        "        p = p + 2 # Try the next value of p.\r\n",
        "        \r\n",
        "    return flags\r\n",
        "\r\n",
        "\r\n",
        "def where(L):\r\n",
        "    '''\r\n",
        "    Take a list of booleans as input and\r\n",
        "    outputs the list of indices where True occurs.\r\n",
        "    '''\r\n",
        "    return [n for n in range(len(L)) if L[n]]\r\n",
        "\r\n",
        "def primes_upto(x,primes):\r\n",
        "  '''\r\n",
        "  Gives primes up to x from a list of primes, primarily used as pi(x), the prime counting function.\r\n",
        "  '''\r\n",
        "  return len([p for p in primes if p <= x]) # List comprehension recovers the primes up to x."
      ],
      "execution_count": 3,
      "outputs": []
    },
    {
      "cell_type": "code",
      "metadata": {
        "id": "H44_0Op-Z47Z"
      },
      "source": [
        "def sum1(x, n):\r\n",
        "  '''\r\n",
        "  our first sum in log int\r\n",
        "  '''\r\n",
        "  sum=0\r\n",
        "  for i in range(1,n):\r\n",
        "    term = ((-1)**(i-1) * np.log(x)**i)/(np.factorial(i)* 2**(i-1))\r\n",
        "    sum = sum + term\r\n",
        "  return sum"
      ],
      "execution_count": 4,
      "outputs": []
    },
    {
      "cell_type": "code",
      "metadata": {
        "id": "93gCtezYUMpd",
        "colab": {
          "base_uri": "https://localhost:8080/",
          "height": 135
        },
        "outputId": "57511d57-7fd4-4f86-f592-4346c5818b2b"
      },
      "source": [
        "gamma = 0.57721 56649 01532 \r\n",
        "\r\n",
        "def log_int(x, n):\r\n",
        "  '''\r\n",
        "  takes an x and computes the log integal series rep at that point\r\n",
        "  to degree of accuracy nK\r\n",
        "  '''\r\n",
        "  gamma\r\n",
        "  + np.log(np.log(x))\r\n",
        "  +np.sqrt(x) * \r\n",
        "\r\n",
        "\r\n",
        "\r\n"
      ],
      "execution_count": 5,
      "outputs": [
        {
          "output_type": "error",
          "ename": "SyntaxError",
          "evalue": "ignored",
          "traceback": [
            "\u001b[0;36m  File \u001b[0;32m\"<ipython-input-5-d249fda9a879>\"\u001b[0;36m, line \u001b[0;32m1\u001b[0m\n\u001b[0;31m    gamma = 0.57721 56649 01532\u001b[0m\n\u001b[0m                        ^\u001b[0m\n\u001b[0;31mSyntaxError\u001b[0m\u001b[0;31m:\u001b[0m invalid syntax\n"
          ]
        }
      ]
    },
    {
      "cell_type": "markdown",
      "metadata": {
        "id": "sFwF_rwuPm8U"
      },
      "source": [
        "#Burleighs PIL corner"
      ]
    },
    {
      "cell_type": "markdown",
      "metadata": {
        "id": "BdLo-wkYP0sR"
      },
      "source": [
        "Idea 1   \r\n",
        "using fermat test $$a^{n-1} mod (n) = 0$$\r\n",
        "1.   init all black square\r\n",
        "2.   check all numbers with fermat test a=2\r\n",
        "3.   Color all that pass a=2 with a color(gonna start with red and move to more blue)\r\n",
        "4.   Repeat with a = next prime number\r\n",
        "5.   For each time it passes fermat test it gets an added red value\r\n",
        "6.   see what it looks like and maybe play around with the color\r\n",
        "7.   might make it into polar coords if that might look cool\r\n",
        "\r\n",
        "\r\n"
      ]
    },
    {
      "cell_type": "code",
      "metadata": {
        "id": "0t5I6VzeRKvx"
      },
      "source": [
        "primelist100000 = np.asarray(where(isprime_list(100000)))\r\n",
        "bigprimelist = np.asarray(where(isprime_list(100000000)))"
      ],
      "execution_count": 118,
      "outputs": []
    },
    {
      "cell_type": "code",
      "metadata": {
        "colab": {
          "base_uri": "https://localhost:8080/",
          "height": 273
        },
        "id": "JTU4cRbrRQun",
        "outputId": "24d6ec2a-458d-4749-bcab-6d96525119bf"
      },
      "source": [
        "primesquare = np.zeros((256, 256,3), dtype=np.uint8)\r\n",
        "for x in range(256):\r\n",
        "    for y in range(256):\r\n",
        "      if (x+(256*y) in primelist100000):\r\n",
        "        primesquare[y,x] = [0,180,180] # Red = y, Green = 0, Blue = 1-y\r\n",
        "\r\n",
        "img = Image.fromarray(primesquare) # Create an image from the array.\r\n",
        "display(img)"
      ],
      "execution_count": 10,
      "outputs": [
        {
          "output_type": "display_data",
          "data": {
            "image/png": "[encoded data removed]",
            "text/plain": [
              "<PIL.Image.Image image mode=RGB size=256x256 at 0x7F274DA8DE50>"
            ]
          },
          "metadata": {
            "tags": []
          }
        }
      ]
    },
    {
      "cell_type": "code",
      "metadata": {
        "id": "dbYH53NVhxBO"
      },
      "source": [
        "def fermat_test(n, a):\r\n",
        "  '''\r\n",
        "  takes a number n to test\r\n",
        "  and the first  as a witness\r\n",
        "  returns true if a witness n as prime\r\n",
        "  a^n-1 mod n = 0 is evidence for primality\r\n",
        "  '''\r\n",
        "  if n==0:\r\n",
        "    return np.zeros((1,a))\r\n",
        "  results = np.zeros( (1,a) )\r\n",
        "  index=0\r\n",
        "  for i in primelist100000[0:a]:\r\n",
        "    results[0,index] = (pow(int(i), n-1, n) == 0)\r\n",
        "    index+=1\r\n",
        "  return results\r\n"
      ],
      "execution_count": 53,
      "outputs": []
    },
    {
      "cell_type": "code",
      "metadata": {
        "id": "pfGjdWbMhvhB",
        "colab": {
          "base_uri": "https://localhost:8080/"
        },
        "outputId": "b12cbb87-fa4d-4c73-cb4e-9a424369a8a7"
      },
      "source": [
        "#generates an array of 10 tuples 1 by 256*256 in length\r\n",
        "#tuples are the results of the fermat test on the first 10 primes\r\n",
        "list_of_fermat_tests_to_10 = np.asarray([fermat_test(i,9) for i in range(0,256*256)])\r\n",
        "print(list_of_fermat_tests_to_10[25][0,0:3])\r\n",
        "print((list_of_fermat_tests_to_10[25])[0,3:6])\r\n",
        "print((list_of_fermat_tests_to_10[25])[0,6:9])"
      ],
      "execution_count": 87,
      "outputs": [
        {
          "output_type": "stream",
          "text": [
            "[0. 0. 1.]\n",
            "[0. 0. 0.]\n",
            "[0. 0. 0.]\n"
          ],
          "name": "stdout"
        }
      ]
    },
    {
      "cell_type": "code",
      "metadata": {
        "id": "3qvhoUsnZ4lM"
      },
      "source": [
        "biglist_of_fermat_tests_to_10 = np.asarray([fermat_test(i,9) for i in range(0,len(bigprimelist))])"
      ],
      "execution_count": 120,
      "outputs": []
    },
    {
      "cell_type": "code",
      "metadata": {
        "colab": {
          "base_uri": "https://localhost:8080/",
          "height": 273
        },
        "id": "BFdudORJP7cJ",
        "outputId": "99bce38c-2949-4c48-c1c1-e4e6ea975af7"
      },
      "source": [
        "##This generates a list of primes by my fermat test\r\n",
        "primesquare = np.zeros((256, 256,3), dtype=np.uint8)\r\n",
        "for x in range(256):\r\n",
        "    for y in range(256):\r\n",
        "      if (x+(256*y) in primelist100000):\r\n",
        "        primesquare[y,x] = [0,100,(100*np.count_nonzero(list_of_fermat_tests_to_10[y+x] ==1))] # Red = y, Green = 0, Blue = 1-y\r\n",
        "\r\n",
        "img = Image.fromarray(primesquare) # Create an image from the array.\r\n",
        "display(img)"
      ],
      "execution_count": 107,
      "outputs": [
        {
          "output_type": "display_data",
          "data": {
            "image/png": "[encoded data removed]",
            "text/plain": [
              "<PIL.Image.Image image mode=RGB size=256x256 at 0x7F2749285410>"
            ]
          },
          "metadata": {
            "tags": []
          }
        }
      ]
    },
    {
      "cell_type": "code",
      "metadata": {
        "colab": {
          "base_uri": "https://localhost:8080/",
          "height": 1000
        },
        "id": "9XycpF_LTooV",
        "outputId": "02b2ce6e-4034-4a61-8b87-499871729f52"
      },
      "source": [
        "##why does this look so much better when its overflowwing 256\r\n",
        "primesquare = np.zeros((1024, 1024,3), dtype=np.uint8)\r\n",
        "for x in range(1024):\r\n",
        "    for y in range(1024):\r\n",
        "      if (x+(1024*y) in bigprimelist):\r\n",
        "        primesquare[y,x] = [160*(np.count_nonzero(biglist_of_fermat_tests_to_10[y+x][0,0:3] ==1)), #add red if witnessed by first 3 primes\r\n",
        "                            160*(np.count_nonzero(biglist_of_fermat_tests_to_10[y+x][0,3:6] ==1)), #add green if witnessed by next three primes\r\n",
        "                            250*(np.count_nonzero(biglist_of_fermat_tests_to_10[y+x][0,6:9] ==1))] #add blue if witnessed by next three primes\r\n",
        "\r\n",
        "img = Image.fromarray(primesquare) # Create an image from the array.\r\n",
        "display(img)"
      ],
      "execution_count": 122,
      "outputs": [
        {
          "output_type": "display_data",
          "data": {
            "image/png": "[encoded data removed]",
            "text/plain": [
              "<PIL.Image.Image image mode=RGB size=1024x1024 at 0x7F27492FC150>"
            ]
          },
          "metadata": {
            "tags": []
          }
        }
      ]
    },
    {
      "cell_type": "code",
      "metadata": {
        "colab": {
          "base_uri": "https://localhost:8080/",
          "height": 273
        },
        "id": "ZjxwvWE2XJvo",
        "outputId": "88f69033-8c5d-4db3-c0a0-d3acce8404e3"
      },
      "source": [
        "##why does this look so much better when its overflowwing 256\r\n",
        "primesquare = np.zeros((256, 256,3), dtype=np.uint8)\r\n",
        "for x in range(256):\r\n",
        "    for y in range(256):\r\n",
        "      if (x+(256*y) in primelist100000):\r\n",
        "        primesquare[y,x] = [250*list_of_fermat_tests_to_10[y+x][0,0], #add red if witnessed by first primes\r\n",
        "                            250*list_of_fermat_tests_to_10[y+x][0,1], #add green if witnessed by second prime\r\n",
        "                            250*list_of_fermat_tests_to_10[y+x][0,2]] #add blue if witnessed by third prime\r\n",
        "\r\n",
        "img = Image.fromarray(primesquare) # Create an image from the array.\r\n",
        "display(img)"
      ],
      "execution_count": 111,
      "outputs": [
        {
          "output_type": "display_data",
          "data": {
            "image/png": "[encoded data removed]",
            "text/plain": [
              "<PIL.Image.Image image mode=RGB size=256x256 at 0x7F2748CBFB10>"
            ]
          },
          "metadata": {
            "tags": []
          }
        }
      ]
    },
    {
      "cell_type": "code",
      "metadata": {
        "colab": {
          "base_uri": "https://localhost:8080/",
          "height": 34
        },
        "id": "b3krrLKmRu3b",
        "outputId": "59a17d9a-fc6c-41cf-9ca9-9dabd7750061"
      },
      "source": [
        "primesquaresmol = np.zeros((10, 10,3), dtype=np.uint8)\r\n",
        "for x in range(10):\r\n",
        "    for y in range(10):\r\n",
        "      if (x+(10*y) in primelist100000):\r\n",
        "        primesquaresmol[y,x] = [0,180,180] # Red = y, Green = 0, Blue = 1-y\r\n",
        "\r\n",
        "img = Image.fromarray(primesquaresmol) # Create an image from the array.\r\n",
        "display(img)"
      ],
      "execution_count": null,
      "outputs": [
        {
          "output_type": "display_data",
          "data": {
            "image/png": "[encoded data removed]",
            "text/plain": [
              "<PIL.Image.Image image mode=RGB size=10x10 at 0x7F5086B61A90>"
            ]
          },
          "metadata": {
            "tags": []
          }
        }
      ]
    },
    {
      "cell_type": "code",
      "metadata": {
        "id": "p8FkncQbV3Sf"
      },
      "source": [
        "def resize(image, width=256): \r\n",
        "    basewidth = width\r\n",
        "    img = image\r\n",
        "    wpercent = (basewidth/float(img.size[0]))\r\n",
        "    hsize = int((float(img.size[1])*float(wpercent)))\r\n",
        "    img = img.resize((basewidth,hsize), Image.ANTIALIAS)\r\n",
        "    display(img)"
      ],
      "execution_count": null,
      "outputs": []
    },
    {
      "cell_type": "code",
      "metadata": {
        "colab": {
          "base_uri": "https://localhost:8080/",
          "height": 273
        },
        "id": "ZwYYc8WpWL1h",
        "outputId": "76dd0e33-56b0-4a19-e932-89572bfe0988"
      },
      "source": [
        "resize(img)"
      ],
      "execution_count": null,
      "outputs": [
        {
          "output_type": "display_data",
          "data": {
            "image/png": "[encoded data removed]",
            "text/plain": [
              "<PIL.Image.Image image mode=RGB size=256x256 at 0x7F5086B61CD0>"
            ]
          },
          "metadata": {
            "tags": []
          }
        }
      ]
    },
    {
      "cell_type": "code",
      "metadata": {
        "colab": {
          "base_uri": "https://localhost:8080/"
        },
        "id": "YUrVqxktS_mh",
        "outputId": "8e1090e0-e82f-4d73-ec4b-d23d7299bae1"
      },
      "source": [
        "np.zeros((10, 10), dtype=np.uint8)"
      ],
      "execution_count": null,
      "outputs": [
        {
          "output_type": "execute_result",
          "data": {
            "text/plain": [
              "array([[0, 0, 0, 0, 0, 0, 0, 0, 0, 0],\n",
              "       [0, 0, 0, 0, 0, 0, 0, 0, 0, 0],\n",
              "       [0, 0, 0, 0, 0, 0, 0, 0, 0, 0],\n",
              "       [0, 0, 0, 0, 0, 0, 0, 0, 0, 0],\n",
              "       [0, 0, 0, 0, 0, 0, 0, 0, 0, 0],\n",
              "       [0, 0, 0, 0, 0, 0, 0, 0, 0, 0],\n",
              "       [0, 0, 0, 0, 0, 0, 0, 0, 0, 0],\n",
              "       [0, 0, 0, 0, 0, 0, 0, 0, 0, 0],\n",
              "       [0, 0, 0, 0, 0, 0, 0, 0, 0, 0],\n",
              "       [0, 0, 0, 0, 0, 0, 0, 0, 0, 0]], dtype=uint8)"
            ]
          },
          "metadata": {
            "tags": []
          },
          "execution_count": 55
        }
      ]
    },
    {
      "cell_type": "code",
      "metadata": {
        "id": "VSkhHWjoUOzX",
        "colab": {
          "base_uri": "https://localhost:8080/"
        },
        "outputId": "32d0c703-f413-49f6-b463-84f2e651f81b"
      },
      "source": [
        "256/3"
      ],
      "execution_count": 92,
      "outputs": [
        {
          "output_type": "execute_result",
          "data": {
            "text/plain": [
              "85.33333333333333"
            ]
          },
          "metadata": {
            "tags": []
          },
          "execution_count": 92
        }
      ]
    },
    {
      "cell_type": "markdown",
      "metadata": {
        "id": "EQEi8JbNi6a3"
      },
      "source": [
        "# Conrad's stuff\r\n"
      ]
    },
    {
      "cell_type": "code",
      "metadata": {
        "colab": {
          "base_uri": "https://localhost:8080/",
          "height": 297
        },
        "id": "uAtd3iAwjAvk",
        "outputId": "44d9862f-62ba-427b-a56e-9f113548dbab"
      },
      "source": [
        "x_values = np.linspace(0,1000000,1001) # The numpy array [0,1000,2000,3000,...,1000000]\r\n",
        "primelist1000000 = (where(isprime_list(1000000)))\r\n",
        "pix_values = np.array([primes_upto(x,primelist1000000) for x in x_values])  # [FUNCTION(x) for x in LIST] syntax\r\n",
        "m_values = pix_values[1:] / x_values[1:]\r\n",
        "plt.plot(x_values[1:], m_values, label='$\\pi(x)/x$')  # The same as the plot above.\r\n",
        "plt.plot(x_values[1:], 1 / np.log(x_values[1:]), label='$1 / \\log(x)$')  # Overlay the graph of 1 / log(x)\r\n",
        "plt.title('The ratio of $\\pi(x) / x$ as $x$ varies.')\r\n",
        "plt.xlabel('x')\r\n",
        "plt.ylabel('$\\pi(x) / x$')\r\n",
        "plt.grid(True)\r\n",
        "plt.legend()  # Turn on the legend.\r\n",
        "plt.show()"
      ],
      "execution_count": null,
      "outputs": [
        {
          "output_type": "display_data",
          "data": {
            "image/png": "[encoded data removed]",
            "text/plain": [
              "<Figure size 432x288 with 1 Axes>"
            ]
          },
          "metadata": {
            "tags": [],
            "needs_background": "light"
          }
        }
      ]
    },
    {
      "cell_type": "code",
      "metadata": {
        "id": "YK-xWV52jB53"
      },
      "source": [
        ""
      ],
      "execution_count": null,
      "outputs": []
    }
  ]
}